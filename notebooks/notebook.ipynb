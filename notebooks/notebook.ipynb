{
 "cells": [
  {
   "cell_type": "markdown",
   "metadata": {},
   "source": [
    "# Project: Predicting no-shows in medical appointments"
   ]
  },
  {
   "cell_type": "markdown",
   "metadata": {},
   "source": [
    "## Dependencies"
   ]
  },
  {
   "cell_type": "code",
   "execution_count": 1,
   "metadata": {},
   "outputs": [],
   "source": [
    "import pandas as pd\n",
    "import numpy as np\n",
    "import matplotlib.pyplot as plt\n",
    "import matplotlib as mpl\n",
    "import seaborn as sns\n",
    "import sklearn\n",
    "\n",
    "from sklearn.model_selection import train_test_split, GridSearchCV, KFold\n",
    "from sklearn.feature_extraction import DictVectorizer\n",
    "from sklearn.metrics import roc_auc_score, classification_report, mutual_info_score, accuracy_score\n",
    "from sklearn.tree import export_text\n",
    "from sklearn.preprocessing import StandardScaler, MinMaxScaler, OneHotEncoder\n",
    "\n",
    "from sklearn.linear_model import LogisticRegression\n",
    "from sklearn.tree import DecisionTreeClassifier\n",
    "from sklearn.ensemble import RandomForestClassifier\n",
    "\n",
    "import xgboost as xgb\n",
    "import lightgbm as lgb\n",
    "\n",
    "import pickle\n",
    "\n",
    "sns.set_style(\"whitegrid\")\n",
    "sns.set_palette('muted')"
   ]
  },
  {
   "cell_type": "code",
   "execution_count": 2,
   "metadata": {},
   "outputs": [
    {
     "name": "stdout",
     "output_type": "stream",
     "text": [
      "pandas      : 2.1.1\n",
      "numpy       : 1.26.0\n",
      "matplotlib  : 3.8.0\n",
      "seaborn     : 0.12.2\n",
      "sklearn     : 1.3.0\n",
      "xgboost     : 1.7.3\n",
      "pickle      : 4.0\n",
      "lightgbm    : 3.3.5\n"
     ]
    }
   ],
   "source": [
    "for package in [pd, np, mpl, sns, sklearn, xgb, pickle, lgb]:\n",
    "    if package == pickle: print(f'{package.__name__:<12}: {package.format_version}')\n",
    "    else: print(f'{package.__name__:<12}: {package.__version__}')"
   ]
  },
  {
   "cell_type": "markdown",
   "metadata": {},
   "source": [
    "# Data Loading\n",
    "\n",
    "The Kaggle dataset for this project can be downloaded from: https://www.kaggle.com/datasets/joniarroba/noshowappointments/data\n",
    "\n",
    "Details of the dataset, including description of columns and associated datatypes, can be found [here](../data/README.md)."
   ]
  },
  {
   "cell_type": "code",
   "execution_count": 3,
   "metadata": {},
   "outputs": [],
   "source": [
    "data_loc = '../data/KaggleV2-May-2016.csv'\n",
    "#data_loc = '/kaggle/input/noshowappointments/KaggleV2-May-2016.csv'"
   ]
  },
  {
   "cell_type": "code",
   "execution_count": 4,
   "metadata": {},
   "outputs": [
    {
     "name": "stdout",
     "output_type": "stream",
     "text": [
      "<class 'pandas.core.frame.DataFrame'>\n",
      "RangeIndex: 110527 entries, 0 to 110526\n",
      "Data columns (total 14 columns):\n",
      " #   Column          Non-Null Count   Dtype              \n",
      "---  ------          --------------   -----              \n",
      " 0   PatientId       110527 non-null  float64            \n",
      " 1   AppointmentID   110527 non-null  int64              \n",
      " 2   Gender          110527 non-null  object             \n",
      " 3   ScheduledDay    110527 non-null  datetime64[ns, UTC]\n",
      " 4   AppointmentDay  110527 non-null  datetime64[ns, UTC]\n",
      " 5   Age             110527 non-null  int64              \n",
      " 6   Neighbourhood   110527 non-null  object             \n",
      " 7   Scholarship     110527 non-null  bool               \n",
      " 8   Hipertension    110527 non-null  bool               \n",
      " 9   Diabetes        110527 non-null  bool               \n",
      " 10  Alcoholism      110527 non-null  bool               \n",
      " 11  Handcap         110527 non-null  int64              \n",
      " 12  SMS_received    110527 non-null  bool               \n",
      " 13  No-show         110527 non-null  object             \n",
      "dtypes: bool(5), datetime64[ns, UTC](2), float64(1), int64(3), object(3)\n",
      "memory usage: 8.1+ MB\n"
     ]
    },
    {
     "data": {
      "text/html": [
       "<div>\n",
       "<style scoped>\n",
       "    .dataframe tbody tr th:only-of-type {\n",
       "        vertical-align: middle;\n",
       "    }\n",
       "\n",
       "    .dataframe tbody tr th {\n",
       "        vertical-align: top;\n",
       "    }\n",
       "\n",
       "    .dataframe thead th {\n",
       "        text-align: right;\n",
       "    }\n",
       "</style>\n",
       "<table border=\"1\" class=\"dataframe\">\n",
       "  <thead>\n",
       "    <tr style=\"text-align: right;\">\n",
       "      <th></th>\n",
       "      <th>110522</th>\n",
       "      <th>110523</th>\n",
       "      <th>110524</th>\n",
       "      <th>110525</th>\n",
       "      <th>110526</th>\n",
       "    </tr>\n",
       "  </thead>\n",
       "  <tbody>\n",
       "    <tr>\n",
       "      <th>PatientId</th>\n",
       "      <td>2572134369293.0</td>\n",
       "      <td>3596266328735.0</td>\n",
       "      <td>15576631729893.0</td>\n",
       "      <td>92134931435557.0</td>\n",
       "      <td>377511518121127.0</td>\n",
       "    </tr>\n",
       "    <tr>\n",
       "      <th>AppointmentID</th>\n",
       "      <td>5651768</td>\n",
       "      <td>5650093</td>\n",
       "      <td>5630692</td>\n",
       "      <td>5630323</td>\n",
       "      <td>5629448</td>\n",
       "    </tr>\n",
       "    <tr>\n",
       "      <th>Gender</th>\n",
       "      <td>F</td>\n",
       "      <td>F</td>\n",
       "      <td>F</td>\n",
       "      <td>F</td>\n",
       "      <td>F</td>\n",
       "    </tr>\n",
       "    <tr>\n",
       "      <th>ScheduledDay</th>\n",
       "      <td>2016-05-03 09:15:35+00:00</td>\n",
       "      <td>2016-05-03 07:27:33+00:00</td>\n",
       "      <td>2016-04-27 16:03:52+00:00</td>\n",
       "      <td>2016-04-27 15:09:23+00:00</td>\n",
       "      <td>2016-04-27 13:30:56+00:00</td>\n",
       "    </tr>\n",
       "    <tr>\n",
       "      <th>AppointmentDay</th>\n",
       "      <td>2016-06-07 00:00:00+00:00</td>\n",
       "      <td>2016-06-07 00:00:00+00:00</td>\n",
       "      <td>2016-06-07 00:00:00+00:00</td>\n",
       "      <td>2016-06-07 00:00:00+00:00</td>\n",
       "      <td>2016-06-07 00:00:00+00:00</td>\n",
       "    </tr>\n",
       "    <tr>\n",
       "      <th>Age</th>\n",
       "      <td>56</td>\n",
       "      <td>51</td>\n",
       "      <td>21</td>\n",
       "      <td>38</td>\n",
       "      <td>54</td>\n",
       "    </tr>\n",
       "    <tr>\n",
       "      <th>Neighbourhood</th>\n",
       "      <td>MARIA ORTIZ</td>\n",
       "      <td>MARIA ORTIZ</td>\n",
       "      <td>MARIA ORTIZ</td>\n",
       "      <td>MARIA ORTIZ</td>\n",
       "      <td>MARIA ORTIZ</td>\n",
       "    </tr>\n",
       "    <tr>\n",
       "      <th>Scholarship</th>\n",
       "      <td>False</td>\n",
       "      <td>False</td>\n",
       "      <td>False</td>\n",
       "      <td>False</td>\n",
       "      <td>False</td>\n",
       "    </tr>\n",
       "    <tr>\n",
       "      <th>Hipertension</th>\n",
       "      <td>False</td>\n",
       "      <td>False</td>\n",
       "      <td>False</td>\n",
       "      <td>False</td>\n",
       "      <td>False</td>\n",
       "    </tr>\n",
       "    <tr>\n",
       "      <th>Diabetes</th>\n",
       "      <td>False</td>\n",
       "      <td>False</td>\n",
       "      <td>False</td>\n",
       "      <td>False</td>\n",
       "      <td>False</td>\n",
       "    </tr>\n",
       "    <tr>\n",
       "      <th>Alcoholism</th>\n",
       "      <td>False</td>\n",
       "      <td>False</td>\n",
       "      <td>False</td>\n",
       "      <td>False</td>\n",
       "      <td>False</td>\n",
       "    </tr>\n",
       "    <tr>\n",
       "      <th>Handcap</th>\n",
       "      <td>0</td>\n",
       "      <td>0</td>\n",
       "      <td>0</td>\n",
       "      <td>0</td>\n",
       "      <td>0</td>\n",
       "    </tr>\n",
       "    <tr>\n",
       "      <th>SMS_received</th>\n",
       "      <td>True</td>\n",
       "      <td>True</td>\n",
       "      <td>True</td>\n",
       "      <td>True</td>\n",
       "      <td>True</td>\n",
       "    </tr>\n",
       "    <tr>\n",
       "      <th>No-show</th>\n",
       "      <td>No</td>\n",
       "      <td>No</td>\n",
       "      <td>No</td>\n",
       "      <td>No</td>\n",
       "      <td>No</td>\n",
       "    </tr>\n",
       "  </tbody>\n",
       "</table>\n",
       "</div>"
      ],
      "text/plain": [
       "                                   110522                     110523  \\\n",
       "PatientId                 2572134369293.0            3596266328735.0   \n",
       "AppointmentID                     5651768                    5650093   \n",
       "Gender                                  F                          F   \n",
       "ScheduledDay    2016-05-03 09:15:35+00:00  2016-05-03 07:27:33+00:00   \n",
       "AppointmentDay  2016-06-07 00:00:00+00:00  2016-06-07 00:00:00+00:00   \n",
       "Age                                    56                         51   \n",
       "Neighbourhood                 MARIA ORTIZ                MARIA ORTIZ   \n",
       "Scholarship                         False                      False   \n",
       "Hipertension                        False                      False   \n",
       "Diabetes                            False                      False   \n",
       "Alcoholism                          False                      False   \n",
       "Handcap                                 0                          0   \n",
       "SMS_received                         True                       True   \n",
       "No-show                                No                         No   \n",
       "\n",
       "                                   110524                     110525  \\\n",
       "PatientId                15576631729893.0           92134931435557.0   \n",
       "AppointmentID                     5630692                    5630323   \n",
       "Gender                                  F                          F   \n",
       "ScheduledDay    2016-04-27 16:03:52+00:00  2016-04-27 15:09:23+00:00   \n",
       "AppointmentDay  2016-06-07 00:00:00+00:00  2016-06-07 00:00:00+00:00   \n",
       "Age                                    21                         38   \n",
       "Neighbourhood                 MARIA ORTIZ                MARIA ORTIZ   \n",
       "Scholarship                         False                      False   \n",
       "Hipertension                        False                      False   \n",
       "Diabetes                            False                      False   \n",
       "Alcoholism                          False                      False   \n",
       "Handcap                                 0                          0   \n",
       "SMS_received                         True                       True   \n",
       "No-show                                No                         No   \n",
       "\n",
       "                                   110526  \n",
       "PatientId               377511518121127.0  \n",
       "AppointmentID                     5629448  \n",
       "Gender                                  F  \n",
       "ScheduledDay    2016-04-27 13:30:56+00:00  \n",
       "AppointmentDay  2016-06-07 00:00:00+00:00  \n",
       "Age                                    54  \n",
       "Neighbourhood                 MARIA ORTIZ  \n",
       "Scholarship                         False  \n",
       "Hipertension                        False  \n",
       "Diabetes                            False  \n",
       "Alcoholism                          False  \n",
       "Handcap                                 0  \n",
       "SMS_received                         True  \n",
       "No-show                                No  "
      ]
     },
     "execution_count": 4,
     "metadata": {},
     "output_type": "execute_result"
    }
   ],
   "source": [
    "df = pd.read_csv(data_loc, \n",
    "                 parse_dates=['ScheduledDay', 'AppointmentDay'],\n",
    "                 dtype={\n",
    "                            'Scholarship':'bool',\n",
    "                            'Hipertension':'bool',\n",
    "                            'Diabetes':'bool',\n",
    "                            'Alcoholism':'bool',\n",
    "                            'SMS_received':'bool'\n",
    "                     }\n",
    "              )\n",
    "df.info()\n",
    "df.tail().T"
   ]
  },
  {
   "cell_type": "markdown",
   "metadata": {},
   "source": [
    "# Data cleaning and preparation\n",
    "\n",
    "* Correct typos\n",
    "* Make the column names lower-case and uniform\n",
    "* Make the string values of categorical columns lower-case and uniform\n",
    "* Impute/Handle missing values [there are no missing values in this dataset]\n",
    "* Make the target variable boolean"
   ]
  },
  {
   "cell_type": "code",
   "execution_count": 5,
   "metadata": {},
   "outputs": [],
   "source": [
    "df.rename(columns={'Hipertension':'Hypertension'}, inplace=True)"
   ]
  },
  {
   "cell_type": "code",
   "execution_count": 6,
   "metadata": {},
   "outputs": [],
   "source": [
    "# Make the column names lower-case and uniform\n",
    "df.columns = df.columns.str.lower().str.replace('-', '_')\n",
    "#df.columns"
   ]
  },
  {
   "cell_type": "code",
   "execution_count": 7,
   "metadata": {},
   "outputs": [
    {
     "data": {
      "text/plain": [
       "['gender', 'neighbourhood', 'no_show']"
      ]
     },
     "execution_count": 7,
     "metadata": {},
     "output_type": "execute_result"
    }
   ],
   "source": [
    "df.dtypes[df.dtypes == 'object'].index.tolist()"
   ]
  },
  {
   "cell_type": "code",
   "execution_count": 8,
   "metadata": {},
   "outputs": [],
   "source": [
    "# Make the string values of categorical columns lower-case and uniform\n",
    "\n",
    "categorical_columns = df.dtypes[df.dtypes == 'object'].index.tolist()\n",
    "\n",
    "for col in categorical_columns:\n",
    "    df[col] = df[col].str.lower().str.replace(' ', '_')"
   ]
  },
  {
   "cell_type": "code",
   "execution_count": 9,
   "metadata": {},
   "outputs": [
    {
     "name": "stdout",
     "output_type": "stream",
     "text": [
      "gender\n",
      "['f' 'm']\n",
      "2\n",
      "\n",
      "neighbourhood\n",
      "['jardim_da_penha' 'mata_da_praia' 'pontal_de_camburi' 'república'\n",
      " 'goiabeiras']\n",
      "81\n",
      "\n",
      "no_show\n",
      "['no' 'yes']\n",
      "2\n",
      "\n"
     ]
    }
   ],
   "source": [
    "for col in categorical_columns:\n",
    "    print(col)\n",
    "    print(df[col].unique()[:5])\n",
    "    print(df[col].nunique())\n",
    "    print()"
   ]
  },
  {
   "cell_type": "code",
   "execution_count": 10,
   "metadata": {},
   "outputs": [],
   "source": [
    "# Make the target variable boolean\n",
    "df.no_show = (df.no_show == 'yes').astype(int)"
   ]
  },
  {
   "cell_type": "code",
   "execution_count": 11,
   "metadata": {},
   "outputs": [
    {
     "data": {
      "text/plain": [
       "0"
      ]
     },
     "execution_count": 11,
     "metadata": {},
     "output_type": "execute_result"
    }
   ],
   "source": [
    "## Impute/Handle missing values: There are no missing values in this dataset\n",
    "df.isnull().sum().sum()"
   ]
  },
  {
   "cell_type": "code",
   "execution_count": 12,
   "metadata": {},
   "outputs": [
    {
     "data": {
      "text/html": [
       "<div>\n",
       "<style scoped>\n",
       "    .dataframe tbody tr th:only-of-type {\n",
       "        vertical-align: middle;\n",
       "    }\n",
       "\n",
       "    .dataframe tbody tr th {\n",
       "        vertical-align: top;\n",
       "    }\n",
       "\n",
       "    .dataframe thead th {\n",
       "        text-align: right;\n",
       "    }\n",
       "</style>\n",
       "<table border=\"1\" class=\"dataframe\">\n",
       "  <thead>\n",
       "    <tr style=\"text-align: right;\">\n",
       "      <th></th>\n",
       "      <th>110522</th>\n",
       "      <th>110523</th>\n",
       "      <th>110524</th>\n",
       "      <th>110525</th>\n",
       "      <th>110526</th>\n",
       "    </tr>\n",
       "  </thead>\n",
       "  <tbody>\n",
       "    <tr>\n",
       "      <th>patientid</th>\n",
       "      <td>2572134369293.0</td>\n",
       "      <td>3596266328735.0</td>\n",
       "      <td>15576631729893.0</td>\n",
       "      <td>92134931435557.0</td>\n",
       "      <td>377511518121127.0</td>\n",
       "    </tr>\n",
       "    <tr>\n",
       "      <th>appointmentid</th>\n",
       "      <td>5651768</td>\n",
       "      <td>5650093</td>\n",
       "      <td>5630692</td>\n",
       "      <td>5630323</td>\n",
       "      <td>5629448</td>\n",
       "    </tr>\n",
       "    <tr>\n",
       "      <th>gender</th>\n",
       "      <td>f</td>\n",
       "      <td>f</td>\n",
       "      <td>f</td>\n",
       "      <td>f</td>\n",
       "      <td>f</td>\n",
       "    </tr>\n",
       "    <tr>\n",
       "      <th>scheduledday</th>\n",
       "      <td>2016-05-03 09:15:35+00:00</td>\n",
       "      <td>2016-05-03 07:27:33+00:00</td>\n",
       "      <td>2016-04-27 16:03:52+00:00</td>\n",
       "      <td>2016-04-27 15:09:23+00:00</td>\n",
       "      <td>2016-04-27 13:30:56+00:00</td>\n",
       "    </tr>\n",
       "    <tr>\n",
       "      <th>appointmentday</th>\n",
       "      <td>2016-06-07 00:00:00+00:00</td>\n",
       "      <td>2016-06-07 00:00:00+00:00</td>\n",
       "      <td>2016-06-07 00:00:00+00:00</td>\n",
       "      <td>2016-06-07 00:00:00+00:00</td>\n",
       "      <td>2016-06-07 00:00:00+00:00</td>\n",
       "    </tr>\n",
       "    <tr>\n",
       "      <th>age</th>\n",
       "      <td>56</td>\n",
       "      <td>51</td>\n",
       "      <td>21</td>\n",
       "      <td>38</td>\n",
       "      <td>54</td>\n",
       "    </tr>\n",
       "    <tr>\n",
       "      <th>neighbourhood</th>\n",
       "      <td>maria_ortiz</td>\n",
       "      <td>maria_ortiz</td>\n",
       "      <td>maria_ortiz</td>\n",
       "      <td>maria_ortiz</td>\n",
       "      <td>maria_ortiz</td>\n",
       "    </tr>\n",
       "    <tr>\n",
       "      <th>scholarship</th>\n",
       "      <td>False</td>\n",
       "      <td>False</td>\n",
       "      <td>False</td>\n",
       "      <td>False</td>\n",
       "      <td>False</td>\n",
       "    </tr>\n",
       "    <tr>\n",
       "      <th>hypertension</th>\n",
       "      <td>False</td>\n",
       "      <td>False</td>\n",
       "      <td>False</td>\n",
       "      <td>False</td>\n",
       "      <td>False</td>\n",
       "    </tr>\n",
       "    <tr>\n",
       "      <th>diabetes</th>\n",
       "      <td>False</td>\n",
       "      <td>False</td>\n",
       "      <td>False</td>\n",
       "      <td>False</td>\n",
       "      <td>False</td>\n",
       "    </tr>\n",
       "    <tr>\n",
       "      <th>alcoholism</th>\n",
       "      <td>False</td>\n",
       "      <td>False</td>\n",
       "      <td>False</td>\n",
       "      <td>False</td>\n",
       "      <td>False</td>\n",
       "    </tr>\n",
       "    <tr>\n",
       "      <th>handcap</th>\n",
       "      <td>0</td>\n",
       "      <td>0</td>\n",
       "      <td>0</td>\n",
       "      <td>0</td>\n",
       "      <td>0</td>\n",
       "    </tr>\n",
       "    <tr>\n",
       "      <th>sms_received</th>\n",
       "      <td>True</td>\n",
       "      <td>True</td>\n",
       "      <td>True</td>\n",
       "      <td>True</td>\n",
       "      <td>True</td>\n",
       "    </tr>\n",
       "    <tr>\n",
       "      <th>no_show</th>\n",
       "      <td>0</td>\n",
       "      <td>0</td>\n",
       "      <td>0</td>\n",
       "      <td>0</td>\n",
       "      <td>0</td>\n",
       "    </tr>\n",
       "  </tbody>\n",
       "</table>\n",
       "</div>"
      ],
      "text/plain": [
       "                                   110522                     110523  \\\n",
       "patientid                 2572134369293.0            3596266328735.0   \n",
       "appointmentid                     5651768                    5650093   \n",
       "gender                                  f                          f   \n",
       "scheduledday    2016-05-03 09:15:35+00:00  2016-05-03 07:27:33+00:00   \n",
       "appointmentday  2016-06-07 00:00:00+00:00  2016-06-07 00:00:00+00:00   \n",
       "age                                    56                         51   \n",
       "neighbourhood                 maria_ortiz                maria_ortiz   \n",
       "scholarship                         False                      False   \n",
       "hypertension                        False                      False   \n",
       "diabetes                            False                      False   \n",
       "alcoholism                          False                      False   \n",
       "handcap                                 0                          0   \n",
       "sms_received                         True                       True   \n",
       "no_show                                 0                          0   \n",
       "\n",
       "                                   110524                     110525  \\\n",
       "patientid                15576631729893.0           92134931435557.0   \n",
       "appointmentid                     5630692                    5630323   \n",
       "gender                                  f                          f   \n",
       "scheduledday    2016-04-27 16:03:52+00:00  2016-04-27 15:09:23+00:00   \n",
       "appointmentday  2016-06-07 00:00:00+00:00  2016-06-07 00:00:00+00:00   \n",
       "age                                    21                         38   \n",
       "neighbourhood                 maria_ortiz                maria_ortiz   \n",
       "scholarship                         False                      False   \n",
       "hypertension                        False                      False   \n",
       "diabetes                            False                      False   \n",
       "alcoholism                          False                      False   \n",
       "handcap                                 0                          0   \n",
       "sms_received                         True                       True   \n",
       "no_show                                 0                          0   \n",
       "\n",
       "                                   110526  \n",
       "patientid               377511518121127.0  \n",
       "appointmentid                     5629448  \n",
       "gender                                  f  \n",
       "scheduledday    2016-04-27 13:30:56+00:00  \n",
       "appointmentday  2016-06-07 00:00:00+00:00  \n",
       "age                                    54  \n",
       "neighbourhood                 maria_ortiz  \n",
       "scholarship                         False  \n",
       "hypertension                        False  \n",
       "diabetes                            False  \n",
       "alcoholism                          False  \n",
       "handcap                                 0  \n",
       "sms_received                         True  \n",
       "no_show                                 0  "
      ]
     },
     "execution_count": 12,
     "metadata": {},
     "output_type": "execute_result"
    }
   ],
   "source": [
    "# dataframe after data cleaning/preparation\n",
    "\n",
    "df.tail().T"
   ]
  },
  {
   "cell_type": "markdown",
   "metadata": {},
   "source": [
    "# EDA\n",
    "\n",
    "* target variable\n",
    "* input features:\n",
    "    * PatientId, AppointmentId\n",
    "    * Datetime variables: ScheduledDay, AppointmentDay\n",
    "    * Categorical/discontinuous variables\n",
    "    * Continuous variables"
   ]
  },
  {
   "cell_type": "markdown",
   "metadata": {},
   "source": [
    "## Target Variable: No-Show"
   ]
  },
  {
   "cell_type": "code",
   "execution_count": 13,
   "metadata": {},
   "outputs": [
    {
     "name": "stdout",
     "output_type": "stream",
     "text": [
      "0.20193255946510807\n"
     ]
    },
    {
     "data": {
      "text/plain": [
       "Text(0.5, 1.0, 'Normalised Value Counts')"
      ]
     },
     "execution_count": 13,
     "metadata": {},
     "output_type": "execute_result"
    },
    {
     "data": {
      "image/png": "[encoded data removed]",
      "text/plain": [
       "<Figure size 500x500 with 1 Axes>"
      ]
     },
     "metadata": {},
     "output_type": "display_data"
    }
   ],
   "source": [
    "print(df.no_show.mean())\n",
    "\n",
    "fig, ax = plt.subplots(figsize=(5,5))\n",
    "df.no_show.value_counts(normalize=True).plot.barh(ax=ax)\n",
    "ax.set_title('Normalised Value Counts')"
   ]
  },
  {
   "cell_type": "markdown",
   "metadata": {},
   "source": [
    "## Input-Features"
   ]
  },
  {
   "cell_type": "markdown",
   "metadata": {},
   "source": [
    "### PatientId, AppointmentId\n",
    "* The dataset consists of 1.77 appointments per unique patientId\n",
    "* Drop appointmentId column because it does not add information"
   ]
  },
  {
   "cell_type": "code",
   "execution_count": 14,
   "metadata": {},
   "outputs": [
    {
     "name": "stdout",
     "output_type": "stream",
     "text": [
      "62299\n",
      "110527\n"
     ]
    }
   ],
   "source": [
    "print(df.patientid.nunique())\n",
    "print(df.appointmentid.nunique())"
   ]
  },
  {
   "cell_type": "code",
   "execution_count": 15,
   "metadata": {},
   "outputs": [],
   "source": [
    "df.drop(columns='appointmentid', inplace=True)"
   ]
  },
  {
   "cell_type": "markdown",
   "metadata": {},
   "source": [
    "### Datetime columns: ['scheduledday', 'appointmentday']\n",
    "\n",
    "* What are the time periods involved?\n",
    "* How do the time series look like?"
   ]
  },
  {
   "cell_type": "code",
   "execution_count": 16,
   "metadata": {},
   "outputs": [
    {
     "name": "stdout",
     "output_type": "stream",
     "text": [
      "scheduledday: 2015-11-10 -- 2016-06-08 \n",
      "appointmentday: 2016-04-29 -- 2016-06-08 \n"
     ]
    }
   ],
   "source": [
    "for col in ['scheduledday', 'appointmentday']:\n",
    "    print(f'{col}: {df[col].min().date()} -- {df[col].max().date()} ')"
   ]
  },
  {
   "cell_type": "code",
   "execution_count": 17,
   "metadata": {},
   "outputs": [
    {
     "data": {
      "text/plain": [
       "Text(0.5, 0.98, 'Counts of No-shows')"
      ]
     },
     "execution_count": 17,
     "metadata": {},
     "output_type": "execute_result"
    },
    {
     "data": {
      "image/png": "[encoded data removed]",
      "text/plain": [
       "<Figure size 2000x500 with 2 Axes>"
      ]
     },
     "metadata": {},
     "output_type": "display_data"
    }
   ],
   "source": [
    "fig, axs = plt.subplots(ncols=2, figsize=(20,5))\n",
    "\n",
    "df.groupby([df.appointmentday.dt.date, df.no_show]).count()['patientid'].unstack().plot(ax=axs[0], marker='o')\n",
    "df.groupby([df.scheduledday.dt.date, df.no_show]).count()['patientid'].unstack().plot(ax=axs[1])\n",
    "\n",
    "fig.suptitle('Counts of No-shows')"
   ]
  },
  {
   "cell_type": "code",
   "execution_count": 18,
   "metadata": {},
   "outputs": [
    {
     "data": {
      "text/plain": [
       "Index(['patientid', 'gender', 'scheduledday', 'appointmentday', 'age',\n",
       "       'neighbourhood', 'scholarship', 'hypertension', 'diabetes',\n",
       "       'alcoholism', 'handcap', 'sms_received', 'no_show'],\n",
       "      dtype='object')"
      ]
     },
     "execution_count": 18,
     "metadata": {},
     "output_type": "execute_result"
    }
   ],
   "source": [
    "df.columns"
   ]
  },
  {
   "cell_type": "markdown",
   "metadata": {},
   "source": [
    "### Discontinuous variables\n",
    "\n",
    "* 'gender', \n",
    "* 'neighbourhood'\n",
    "* 'scholarship'\n",
    "* 'hipertension',\n",
    "* 'diabetes'\n",
    "* 'alcoholism'\n",
    "* 'handcap'\n",
    "* 'sms_received'"
   ]
  },
  {
   "cell_type": "code",
   "execution_count": 19,
   "metadata": {},
   "outputs": [
    {
     "data": {
      "image/png": "[encoded data removed]",
      "text/plain": [
       "<Figure size 2000x800 with 8 Axes>"
      ]
     },
     "metadata": {},
     "output_type": "display_data"
    }
   ],
   "source": [
    "fig, axs = plt.subplots(ncols=4, nrows=2, figsize=(20,8))\n",
    "\n",
    "\n",
    "for idx, col in enumerate(['gender','neighbourhood', 'scholarship', 'hypertension','diabetes', 'alcoholism', 'handcap', 'sms_received']):\n",
    "    df[col].value_counts(normalize=True)[:10].plot.barh(ax=axs[int(idx/4), idx%4])\n",
    "\n",
    "fig.suptitle('Normalised Value Counts')\n",
    "plt.tight_layout()"
   ]
  },
  {
   "cell_type": "markdown",
   "metadata": {},
   "source": [
    "### Continuous Variables: Age"
   ]
  },
  {
   "cell_type": "code",
   "execution_count": 20,
   "metadata": {},
   "outputs": [
    {
     "data": {
      "text/plain": [
       "Text(0.5, 1.0, 'Age histogram')"
      ]
     },
     "execution_count": 20,
     "metadata": {},
     "output_type": "execute_result"
    },
    {
     "data": {
      "image/png": "[encoded data removed]",
      "text/plain": [
       "<Figure size 500x500 with 1 Axes>"
      ]
     },
     "metadata": {},
     "output_type": "display_data"
    }
   ],
   "source": [
    "fig, ax = plt.subplots(figsize=(5,5))\n",
    "df.age.plot.hist(bins=20, density=True)\n",
    "ax.set_title('Age histogram')"
   ]
  },
  {
   "cell_type": "markdown",
   "metadata": {},
   "source": [
    "# Feature Engineering\n",
    "\n",
    "* Construct datetime-related features out of 'scheduledday' and 'appointmentday' which can be treated as numerical or categorical data, instead of datetime data\n",
    "* Drop columns 'scheduledday' and 'appointmentday'\n",
    "* Drop any column which has only 1 unique value"
   ]
  },
  {
   "cell_type": "code",
   "execution_count": 21,
   "metadata": {},
   "outputs": [
    {
     "data": {
      "text/html": [
       "<div>\n",
       "<style scoped>\n",
       "    .dataframe tbody tr th:only-of-type {\n",
       "        vertical-align: middle;\n",
       "    }\n",
       "\n",
       "    .dataframe tbody tr th {\n",
       "        vertical-align: top;\n",
       "    }\n",
       "\n",
       "    .dataframe thead th {\n",
       "        text-align: right;\n",
       "    }\n",
       "</style>\n",
       "<table border=\"1\" class=\"dataframe\">\n",
       "  <thead>\n",
       "    <tr style=\"text-align: right;\">\n",
       "      <th></th>\n",
       "      <th>110522</th>\n",
       "      <th>110523</th>\n",
       "      <th>110524</th>\n",
       "      <th>110525</th>\n",
       "      <th>110526</th>\n",
       "    </tr>\n",
       "  </thead>\n",
       "  <tbody>\n",
       "    <tr>\n",
       "      <th>patientid</th>\n",
       "      <td>2572134369293.0</td>\n",
       "      <td>3596266328735.0</td>\n",
       "      <td>15576631729893.0</td>\n",
       "      <td>92134931435557.0</td>\n",
       "      <td>377511518121127.0</td>\n",
       "    </tr>\n",
       "    <tr>\n",
       "      <th>gender</th>\n",
       "      <td>f</td>\n",
       "      <td>f</td>\n",
       "      <td>f</td>\n",
       "      <td>f</td>\n",
       "      <td>f</td>\n",
       "    </tr>\n",
       "    <tr>\n",
       "      <th>age</th>\n",
       "      <td>56</td>\n",
       "      <td>51</td>\n",
       "      <td>21</td>\n",
       "      <td>38</td>\n",
       "      <td>54</td>\n",
       "    </tr>\n",
       "    <tr>\n",
       "      <th>neighbourhood</th>\n",
       "      <td>maria_ortiz</td>\n",
       "      <td>maria_ortiz</td>\n",
       "      <td>maria_ortiz</td>\n",
       "      <td>maria_ortiz</td>\n",
       "      <td>maria_ortiz</td>\n",
       "    </tr>\n",
       "    <tr>\n",
       "      <th>scholarship</th>\n",
       "      <td>False</td>\n",
       "      <td>False</td>\n",
       "      <td>False</td>\n",
       "      <td>False</td>\n",
       "      <td>False</td>\n",
       "    </tr>\n",
       "    <tr>\n",
       "      <th>hypertension</th>\n",
       "      <td>False</td>\n",
       "      <td>False</td>\n",
       "      <td>False</td>\n",
       "      <td>False</td>\n",
       "      <td>False</td>\n",
       "    </tr>\n",
       "    <tr>\n",
       "      <th>diabetes</th>\n",
       "      <td>False</td>\n",
       "      <td>False</td>\n",
       "      <td>False</td>\n",
       "      <td>False</td>\n",
       "      <td>False</td>\n",
       "    </tr>\n",
       "    <tr>\n",
       "      <th>alcoholism</th>\n",
       "      <td>False</td>\n",
       "      <td>False</td>\n",
       "      <td>False</td>\n",
       "      <td>False</td>\n",
       "      <td>False</td>\n",
       "    </tr>\n",
       "    <tr>\n",
       "      <th>handcap</th>\n",
       "      <td>0</td>\n",
       "      <td>0</td>\n",
       "      <td>0</td>\n",
       "      <td>0</td>\n",
       "      <td>0</td>\n",
       "    </tr>\n",
       "    <tr>\n",
       "      <th>sms_received</th>\n",
       "      <td>True</td>\n",
       "      <td>True</td>\n",
       "      <td>True</td>\n",
       "      <td>True</td>\n",
       "      <td>True</td>\n",
       "    </tr>\n",
       "    <tr>\n",
       "      <th>no_show</th>\n",
       "      <td>0</td>\n",
       "      <td>0</td>\n",
       "      <td>0</td>\n",
       "      <td>0</td>\n",
       "      <td>0</td>\n",
       "    </tr>\n",
       "    <tr>\n",
       "      <th>scheduleddayYear</th>\n",
       "      <td>2016</td>\n",
       "      <td>2016</td>\n",
       "      <td>2016</td>\n",
       "      <td>2016</td>\n",
       "      <td>2016</td>\n",
       "    </tr>\n",
       "    <tr>\n",
       "      <th>scheduleddayMonth</th>\n",
       "      <td>5</td>\n",
       "      <td>5</td>\n",
       "      <td>4</td>\n",
       "      <td>4</td>\n",
       "      <td>4</td>\n",
       "    </tr>\n",
       "    <tr>\n",
       "      <th>scheduleddayWeek</th>\n",
       "      <td>18</td>\n",
       "      <td>18</td>\n",
       "      <td>17</td>\n",
       "      <td>17</td>\n",
       "      <td>17</td>\n",
       "    </tr>\n",
       "    <tr>\n",
       "      <th>scheduleddayDay</th>\n",
       "      <td>3</td>\n",
       "      <td>3</td>\n",
       "      <td>27</td>\n",
       "      <td>27</td>\n",
       "      <td>27</td>\n",
       "    </tr>\n",
       "    <tr>\n",
       "      <th>scheduleddayDayofweek</th>\n",
       "      <td>1</td>\n",
       "      <td>1</td>\n",
       "      <td>2</td>\n",
       "      <td>2</td>\n",
       "      <td>2</td>\n",
       "    </tr>\n",
       "    <tr>\n",
       "      <th>scheduleddayDayofyear</th>\n",
       "      <td>124</td>\n",
       "      <td>124</td>\n",
       "      <td>118</td>\n",
       "      <td>118</td>\n",
       "      <td>118</td>\n",
       "    </tr>\n",
       "    <tr>\n",
       "      <th>scheduleddayIs_month_end</th>\n",
       "      <td>False</td>\n",
       "      <td>False</td>\n",
       "      <td>False</td>\n",
       "      <td>False</td>\n",
       "      <td>False</td>\n",
       "    </tr>\n",
       "    <tr>\n",
       "      <th>scheduleddayIs_month_start</th>\n",
       "      <td>False</td>\n",
       "      <td>False</td>\n",
       "      <td>False</td>\n",
       "      <td>False</td>\n",
       "      <td>False</td>\n",
       "    </tr>\n",
       "    <tr>\n",
       "      <th>scheduleddayIs_quarter_end</th>\n",
       "      <td>False</td>\n",
       "      <td>False</td>\n",
       "      <td>False</td>\n",
       "      <td>False</td>\n",
       "      <td>False</td>\n",
       "    </tr>\n",
       "    <tr>\n",
       "      <th>scheduleddayIs_quarter_start</th>\n",
       "      <td>False</td>\n",
       "      <td>False</td>\n",
       "      <td>False</td>\n",
       "      <td>False</td>\n",
       "      <td>False</td>\n",
       "    </tr>\n",
       "    <tr>\n",
       "      <th>scheduleddayHour</th>\n",
       "      <td>9</td>\n",
       "      <td>7</td>\n",
       "      <td>16</td>\n",
       "      <td>15</td>\n",
       "      <td>13</td>\n",
       "    </tr>\n",
       "    <tr>\n",
       "      <th>scheduleddayMinute</th>\n",
       "      <td>15</td>\n",
       "      <td>27</td>\n",
       "      <td>3</td>\n",
       "      <td>9</td>\n",
       "      <td>30</td>\n",
       "    </tr>\n",
       "    <tr>\n",
       "      <th>scheduleddaySecond</th>\n",
       "      <td>35</td>\n",
       "      <td>33</td>\n",
       "      <td>52</td>\n",
       "      <td>23</td>\n",
       "      <td>56</td>\n",
       "    </tr>\n",
       "    <tr>\n",
       "      <th>appointmentdayMonth</th>\n",
       "      <td>6</td>\n",
       "      <td>6</td>\n",
       "      <td>6</td>\n",
       "      <td>6</td>\n",
       "      <td>6</td>\n",
       "    </tr>\n",
       "    <tr>\n",
       "      <th>appointmentdayWeek</th>\n",
       "      <td>23</td>\n",
       "      <td>23</td>\n",
       "      <td>23</td>\n",
       "      <td>23</td>\n",
       "      <td>23</td>\n",
       "    </tr>\n",
       "    <tr>\n",
       "      <th>appointmentdayDay</th>\n",
       "      <td>7</td>\n",
       "      <td>7</td>\n",
       "      <td>7</td>\n",
       "      <td>7</td>\n",
       "      <td>7</td>\n",
       "    </tr>\n",
       "    <tr>\n",
       "      <th>appointmentdayDayofweek</th>\n",
       "      <td>1</td>\n",
       "      <td>1</td>\n",
       "      <td>1</td>\n",
       "      <td>1</td>\n",
       "      <td>1</td>\n",
       "    </tr>\n",
       "    <tr>\n",
       "      <th>appointmentdayDayofyear</th>\n",
       "      <td>159</td>\n",
       "      <td>159</td>\n",
       "      <td>159</td>\n",
       "      <td>159</td>\n",
       "      <td>159</td>\n",
       "    </tr>\n",
       "    <tr>\n",
       "      <th>appointmentdayIs_month_end</th>\n",
       "      <td>False</td>\n",
       "      <td>False</td>\n",
       "      <td>False</td>\n",
       "      <td>False</td>\n",
       "      <td>False</td>\n",
       "    </tr>\n",
       "    <tr>\n",
       "      <th>appointmentdayIs_month_start</th>\n",
       "      <td>False</td>\n",
       "      <td>False</td>\n",
       "      <td>False</td>\n",
       "      <td>False</td>\n",
       "      <td>False</td>\n",
       "    </tr>\n",
       "  </tbody>\n",
       "</table>\n",
       "</div>"
      ],
      "text/plain": [
       "                                       110522           110523  \\\n",
       "patientid                     2572134369293.0  3596266328735.0   \n",
       "gender                                      f                f   \n",
       "age                                        56               51   \n",
       "neighbourhood                     maria_ortiz      maria_ortiz   \n",
       "scholarship                             False            False   \n",
       "hypertension                            False            False   \n",
       "diabetes                                False            False   \n",
       "alcoholism                              False            False   \n",
       "handcap                                     0                0   \n",
       "sms_received                             True             True   \n",
       "no_show                                     0                0   \n",
       "scheduleddayYear                         2016             2016   \n",
       "scheduleddayMonth                           5                5   \n",
       "scheduleddayWeek                           18               18   \n",
       "scheduleddayDay                             3                3   \n",
       "scheduleddayDayofweek                       1                1   \n",
       "scheduleddayDayofyear                     124              124   \n",
       "scheduleddayIs_month_end                False            False   \n",
       "scheduleddayIs_month_start              False            False   \n",
       "scheduleddayIs_quarter_end              False            False   \n",
       "scheduleddayIs_quarter_start            False            False   \n",
       "scheduleddayHour                            9                7   \n",
       "scheduleddayMinute                         15               27   \n",
       "scheduleddaySecond                         35               33   \n",
       "appointmentdayMonth                         6                6   \n",
       "appointmentdayWeek                         23               23   \n",
       "appointmentdayDay                           7                7   \n",
       "appointmentdayDayofweek                     1                1   \n",
       "appointmentdayDayofyear                   159              159   \n",
       "appointmentdayIs_month_end              False            False   \n",
       "appointmentdayIs_month_start            False            False   \n",
       "\n",
       "                                        110524            110525  \\\n",
       "patientid                     15576631729893.0  92134931435557.0   \n",
       "gender                                       f                 f   \n",
       "age                                         21                38   \n",
       "neighbourhood                      maria_ortiz       maria_ortiz   \n",
       "scholarship                              False             False   \n",
       "hypertension                             False             False   \n",
       "diabetes                                 False             False   \n",
       "alcoholism                               False             False   \n",
       "handcap                                      0                 0   \n",
       "sms_received                              True              True   \n",
       "no_show                                      0                 0   \n",
       "scheduleddayYear                          2016              2016   \n",
       "scheduleddayMonth                            4                 4   \n",
       "scheduleddayWeek                            17                17   \n",
       "scheduleddayDay                             27                27   \n",
       "scheduleddayDayofweek                        2                 2   \n",
       "scheduleddayDayofyear                      118               118   \n",
       "scheduleddayIs_month_end                 False             False   \n",
       "scheduleddayIs_month_start               False             False   \n",
       "scheduleddayIs_quarter_end               False             False   \n",
       "scheduleddayIs_quarter_start             False             False   \n",
       "scheduleddayHour                            16                15   \n",
       "scheduleddayMinute                           3                 9   \n",
       "scheduleddaySecond                          52                23   \n",
       "appointmentdayMonth                          6                 6   \n",
       "appointmentdayWeek                          23                23   \n",
       "appointmentdayDay                            7                 7   \n",
       "appointmentdayDayofweek                      1                 1   \n",
       "appointmentdayDayofyear                    159               159   \n",
       "appointmentdayIs_month_end               False             False   \n",
       "appointmentdayIs_month_start             False             False   \n",
       "\n",
       "                                         110526  \n",
       "patientid                     377511518121127.0  \n",
       "gender                                        f  \n",
       "age                                          54  \n",
       "neighbourhood                       maria_ortiz  \n",
       "scholarship                               False  \n",
       "hypertension                              False  \n",
       "diabetes                                  False  \n",
       "alcoholism                                False  \n",
       "handcap                                       0  \n",
       "sms_received                               True  \n",
       "no_show                                       0  \n",
       "scheduleddayYear                           2016  \n",
       "scheduleddayMonth                             4  \n",
       "scheduleddayWeek                             17  \n",
       "scheduleddayDay                              27  \n",
       "scheduleddayDayofweek                         2  \n",
       "scheduleddayDayofyear                       118  \n",
       "scheduleddayIs_month_end                  False  \n",
       "scheduleddayIs_month_start                False  \n",
       "scheduleddayIs_quarter_end                False  \n",
       "scheduleddayIs_quarter_start              False  \n",
       "scheduleddayHour                             13  \n",
       "scheduleddayMinute                           30  \n",
       "scheduleddaySecond                           56  \n",
       "appointmentdayMonth                           6  \n",
       "appointmentdayWeek                           23  \n",
       "appointmentdayDay                             7  \n",
       "appointmentdayDayofweek                       1  \n",
       "appointmentdayDayofyear                     159  \n",
       "appointmentdayIs_month_end                False  \n",
       "appointmentdayIs_month_start              False  "
      ]
     },
     "execution_count": 21,
     "metadata": {},
     "output_type": "execute_result"
    }
   ],
   "source": [
    "# Credit: https://github.com/fastai/fastai/blob/master/fastai/tabular/core.py#L26\n",
    "\n",
    "attr = ['Year', 'Month', 'Week', 'Day', \n",
    "        'Dayofweek', 'Dayofyear', \n",
    "        'Is_month_end', 'Is_month_start', \n",
    "        'Is_quarter_end', 'Is_quarter_start',  \n",
    "        'Hour', 'Minute', 'Second']\n",
    "\n",
    "for field_name in ['scheduledday', 'appointmentday']:\n",
    "\n",
    "    field = df[field_name]\n",
    "    prefix = field_name\n",
    "    \n",
    "    week = field.dt.isocalendar().week.astype(field.dt.day.dtype) if hasattr(field.dt, 'isocalendar') else field.dt.week\n",
    "    for n in attr: df[prefix + n] = getattr(field.dt, n.lower()) if n != 'Week' else week   \n",
    "\n",
    "    df.drop(field_name, axis=1, inplace=True)\n",
    "\n",
    "    # drop columns which only have one unique value\n",
    "    n = df[[col for col in df.columns if col.startswith('appointmentday')]].nunique() == 1\n",
    "    #print(n[n == True].index)\n",
    "    df.drop(n[n == True].index, axis=1, inplace=True)\n",
    "\n",
    "\n",
    "df.tail().T\n"
   ]
  },
  {
   "cell_type": "markdown",
   "metadata": {},
   "source": [
    "# Categorical/Numerical Features\n",
    "\n",
    "* Divide the dataset into numerical and categorical features depending on how many unique values the variable can have (< or > 10)\n",
    "* Remove target variable from list of categorical columns\n",
    "* Make an exception for 'neighbourhood' which has 81 unique values but clearly is a categorical variable"
   ]
  },
  {
   "cell_type": "code",
   "execution_count": 22,
   "metadata": {},
   "outputs": [
    {
     "name": "stdout",
     "output_type": "stream",
     "text": [
      "Categorical: ['gender', 'scholarship', 'hypertension', 'diabetes', 'alcoholism', 'handcap', 'sms_received', 'scheduleddayYear', 'scheduleddayMonth', 'scheduleddayDayofweek', 'scheduleddayIs_month_end', 'scheduleddayIs_month_start', 'scheduleddayIs_quarter_end', 'scheduleddayIs_quarter_start', 'appointmentdayMonth', 'appointmentdayWeek', 'appointmentdayDayofweek', 'appointmentdayIs_month_end', 'appointmentdayIs_month_start', 'neighbourhood']\n",
      "Numerical: ['patientid', 'age', 'scheduleddayWeek', 'scheduleddayDay', 'scheduleddayDayofyear', 'scheduleddayHour', 'scheduleddayMinute', 'scheduleddaySecond', 'appointmentdayDay', 'appointmentdayDayofyear']\n"
     ]
    }
   ],
   "source": [
    "categorical = [col for col in df.columns if df[col].nunique() <= 10] + ['neighbourhood']\n",
    "categorical.remove('no_show')\n",
    "\n",
    "numerical = [col for col in df.columns if df[col].nunique() > 10]\n",
    "numerical.remove('neighbourhood')\n",
    "\n",
    "print(f'Categorical: {categorical}')\n",
    "print(f'Numerical: {numerical}')\n",
    "\n",
    "assert(set(numerical + categorical + ['no_show']) == set(df.columns))"
   ]
  },
  {
   "cell_type": "markdown",
   "metadata": {},
   "source": [
    "# Feature importance"
   ]
  },
  {
   "cell_type": "markdown",
   "metadata": {},
   "source": [
    "## Feature Importance: Mutual information\n",
    "\n",
    "Mutual information: concept from information theory, it tells us how much we can learn about one variable if we know the value of another\n",
    "* https://en.wikipedia.org/wiki/Mutual_information"
   ]
  },
  {
   "cell_type": "code",
   "execution_count": 23,
   "metadata": {},
   "outputs": [
    {
     "data": {
      "text/plain": [
       "gender                           2\n",
       "scholarship                      2\n",
       "hypertension                     2\n",
       "diabetes                         2\n",
       "alcoholism                       2\n",
       "handcap                          5\n",
       "sms_received                     2\n",
       "scheduleddayYear                 2\n",
       "scheduleddayMonth                8\n",
       "scheduleddayDayofweek            6\n",
       "scheduleddayIs_month_end         2\n",
       "scheduleddayIs_month_start       2\n",
       "scheduleddayIs_quarter_end       2\n",
       "scheduleddayIs_quarter_start     2\n",
       "appointmentdayMonth              3\n",
       "appointmentdayWeek               7\n",
       "appointmentdayDayofweek          6\n",
       "appointmentdayIs_month_end       2\n",
       "appointmentdayIs_month_start     2\n",
       "neighbourhood                   81\n",
       "dtype: int64"
      ]
     },
     "execution_count": 23,
     "metadata": {},
     "output_type": "execute_result"
    }
   ],
   "source": [
    "df[categorical].nunique()"
   ]
  },
  {
   "cell_type": "code",
   "execution_count": 24,
   "metadata": {},
   "outputs": [
    {
     "data": {
      "text/plain": [
       "scheduleddayMonth               1.510020e-02\n",
       "sms_received                    7.701460e-03\n",
       "neighbourhood                   2.192090e-03\n",
       "hypertension                    6.559947e-04\n",
       "appointmentdayWeek              5.219251e-04\n",
       "scholarship                     4.093512e-04\n",
       "appointmentdayMonth             3.117944e-04\n",
       "scheduleddayIs_quarter_end      2.211698e-04\n",
       "scheduleddayIs_month_end        1.423530e-04\n",
       "appointmentdayDayofweek         1.239311e-04\n",
       "scheduleddayIs_quarter_start    1.226543e-04\n",
       "diabetes                        1.182674e-04\n",
       "scheduleddayIs_month_start      1.165667e-04\n",
       "appointmentdayIs_month_end      6.614139e-05\n",
       "appointmentdayIs_month_start    5.371608e-05\n",
       "scheduleddayDayofweek           4.737024e-05\n",
       "handcap                         3.251833e-05\n",
       "scheduleddayYear                1.710510e-05\n",
       "gender                          8.492551e-06\n",
       "alcoholism                      1.922678e-08\n",
       "dtype: float64"
      ]
     },
     "metadata": {},
     "output_type": "display_data"
    },
    {
     "data": {
      "text/plain": [
       "Text(0.5, 1.0, 'Mutual Information: Top 10 categorical features')"
      ]
     },
     "execution_count": 24,
     "metadata": {},
     "output_type": "execute_result"
    },
    {
     "data": {
      "image/png": "[encoded data removed]",
      "text/plain": [
       "<Figure size 500x500 with 1 Axes>"
      ]
     },
     "metadata": {},
     "output_type": "display_data"
    }
   ],
   "source": [
    "def mutual_info_no_show_score(series):\n",
    "    return mutual_info_score(series, df.no_show)\n",
    "\n",
    "mi = df[categorical].apply(mutual_info_no_show_score)\n",
    "\n",
    "display(mi.sort_values(ascending=False))\n",
    "\n",
    "fig, ax = plt.subplots(figsize=(5,5))\n",
    "mi.sort_values(ascending=False)[1:10][::-1].plot.barh(ax=ax)\n",
    "ax.set_title('Mutual Information: Top 10 categorical features')"
   ]
  },
  {
   "cell_type": "markdown",
   "metadata": {},
   "source": [
    "## Feature importance: Correlation\n",
    "\n",
    "What about Numerical columns?\n",
    "Correlation coefficient - https://en.wikipedia.org/wiki/Pearson_correlation_coefficient"
   ]
  },
  {
   "cell_type": "code",
   "execution_count": 25,
   "metadata": {},
   "outputs": [
    {
     "data": {
      "text/plain": [
       "scheduleddayDayofyear      0.157280\n",
       "scheduleddayWeek           0.156386\n",
       "scheduleddayHour           0.060697\n",
       "age                        0.060319\n",
       "scheduleddayDay            0.046557\n",
       "appointmentdayDayofyear    0.022408\n",
       "scheduleddayMinute         0.015037\n",
       "appointmentdayDay          0.003763\n",
       "scheduleddaySecond         0.001837\n",
       "patientid                  0.001461\n",
       "dtype: float64"
      ]
     },
     "metadata": {},
     "output_type": "display_data"
    },
    {
     "data": {
      "text/plain": [
       "Text(0.5, 1.0, 'Correlation: Top 10 numerical features')"
      ]
     },
     "execution_count": 25,
     "metadata": {},
     "output_type": "execute_result"
    },
    {
     "data": {
      "image/png": "[encoded data removed]",
      "text/plain": [
       "<Figure size 500x500 with 1 Axes>"
      ]
     },
     "metadata": {},
     "output_type": "display_data"
    }
   ],
   "source": [
    "corr = df[numerical].corrwith(df.no_show).abs().sort_values(ascending=False)\n",
    "display(corr)\n",
    "\n",
    "fig, ax = plt.subplots(figsize=(5,5))\n",
    "corr[::-1].plot.barh(ax=ax)\n",
    "ax.set_title('Correlation: Top 10 numerical features')"
   ]
  },
  {
   "cell_type": "markdown",
   "metadata": {},
   "source": [
    "# Setting up the validation framework\n",
    "\n",
    "* Perform the train/validation/test split with Scikit-Learn"
   ]
  },
  {
   "cell_type": "code",
   "execution_count": 26,
   "metadata": {},
   "outputs": [],
   "source": [
    "df_full_train, df_test = train_test_split(df, test_size=0.2, random_state=42)\n",
    "df_train, df_val = train_test_split(df_full_train, test_size=0.25, random_state=42)\n",
    "\n",
    "df_train = df_train.reset_index(drop=True)\n",
    "df_val = df_val.reset_index(drop=True)\n",
    "df_test = df_test.reset_index(drop=True)\n",
    "\n",
    "y_train = df_train.no_show.values\n",
    "y_val = df_val.no_show.values\n",
    "y_test = df_test.no_show.values\n",
    "\n",
    "del df_train['no_show']\n",
    "del df_val['no_show']\n",
    "del df_test['no_show']"
   ]
  },
  {
   "cell_type": "markdown",
   "metadata": {},
   "source": [
    "# Data Preparation-II: Feature Scaling + OHE"
   ]
  },
  {
   "cell_type": "markdown",
   "metadata": {},
   "source": [
    "### Training set: Feature Scaling"
   ]
  },
  {
   "cell_type": "markdown",
   "metadata": {},
   "source": [
    "First, we prepare the numerical variables. We'll use the scaler for that and write the results to `X_train_num`. The scaler scales the numerical features."
   ]
  },
  {
   "cell_type": "code",
   "execution_count": 27,
   "metadata": {},
   "outputs": [],
   "source": [
    "X_train_num = df_train[numerical]\n",
    "\n",
    "scaler = StandardScaler()\n",
    "#scaler = MinMaxScaler()\n",
    "\n",
    "X_train_num = scaler.fit_transform(X_train_num)"
   ]
  },
  {
   "cell_type": "markdown",
   "metadata": {},
   "source": [
    "Now let's process categorical features using OneHotEncoding. We'll write the results to `X_train_cat`."
   ]
  },
  {
   "cell_type": "code",
   "execution_count": 28,
   "metadata": {},
   "outputs": [
    {
     "name": "stderr",
     "output_type": "stream",
     "text": [
      "/home/ubuntu/miniconda3/envs/ml-zoomcamp/lib/python3.9/site-packages/sklearn/preprocessing/_encoders.py:972: FutureWarning: `sparse` was renamed to `sparse_output` in version 1.2 and will be removed in 1.4. `sparse_output` is ignored unless you leave `sparse` to its default value.\n",
      "  warnings.warn(\n"
     ]
    },
    {
     "data": {
      "text/plain": [
       "array(['gender_f', 'gender_m', 'scholarship_False', 'scholarship_True',\n",
       "       'hypertension_False', 'hypertension_True', 'diabetes_False',\n",
       "       'diabetes_True', 'alcoholism_False', 'alcoholism_True',\n",
       "       'handcap_0', 'handcap_1', 'handcap_2', 'handcap_3', 'handcap_4',\n",
       "       'sms_received_False', 'sms_received_True', 'scheduleddayYear_2015',\n",
       "       'scheduleddayYear_2016', 'scheduleddayMonth_1',\n",
       "       'scheduleddayMonth_2', 'scheduleddayMonth_3',\n",
       "       'scheduleddayMonth_4', 'scheduleddayMonth_5',\n",
       "       'scheduleddayMonth_6', 'scheduleddayMonth_11',\n",
       "       'scheduleddayMonth_12', 'scheduleddayDayofweek_0',\n",
       "       'scheduleddayDayofweek_1', 'scheduleddayDayofweek_2',\n",
       "       'scheduleddayDayofweek_3', 'scheduleddayDayofweek_4',\n",
       "       'scheduleddayDayofweek_5', 'scheduleddayIs_month_end_False',\n",
       "       'scheduleddayIs_month_end_True',\n",
       "       'scheduleddayIs_month_start_False',\n",
       "       'scheduleddayIs_month_start_True',\n",
       "       'scheduleddayIs_quarter_end_False',\n",
       "       'scheduleddayIs_quarter_end_True',\n",
       "       'scheduleddayIs_quarter_start_False',\n",
       "       'scheduleddayIs_quarter_start_True', 'appointmentdayMonth_4',\n",
       "       'appointmentdayMonth_5', 'appointmentdayMonth_6',\n",
       "       'appointmentdayWeek_17', 'appointmentdayWeek_18',\n",
       "       'appointmentdayWeek_19', 'appointmentdayWeek_20',\n",
       "       'appointmentdayWeek_21', 'appointmentdayWeek_22',\n",
       "       'appointmentdayWeek_23', 'appointmentdayDayofweek_0',\n",
       "       'appointmentdayDayofweek_1', 'appointmentdayDayofweek_2',\n",
       "       'appointmentdayDayofweek_3', 'appointmentdayDayofweek_4',\n",
       "       'appointmentdayDayofweek_5', 'appointmentdayIs_month_end_False',\n",
       "       'appointmentdayIs_month_end_True',\n",
       "       'appointmentdayIs_month_start_False',\n",
       "       'appointmentdayIs_month_start_True', 'neighbourhood_aeroporto',\n",
       "       'neighbourhood_andorinhas', 'neighbourhood_antônio_honório',\n",
       "       'neighbourhood_ariovaldo_favalessa',\n",
       "       'neighbourhood_barro_vermelho', 'neighbourhood_bela_vista',\n",
       "       'neighbourhood_bento_ferreira', 'neighbourhood_boa_vista',\n",
       "       'neighbourhood_bonfim', 'neighbourhood_caratoíra',\n",
       "       'neighbourhood_centro', 'neighbourhood_comdusa',\n",
       "       'neighbourhood_conquista', 'neighbourhood_consolação',\n",
       "       'neighbourhood_cruzamento', 'neighbourhood_da_penha',\n",
       "       'neighbourhood_de_lourdes', 'neighbourhood_do_cabral',\n",
       "       'neighbourhood_do_moscoso', 'neighbourhood_do_quadro',\n",
       "       'neighbourhood_enseada_do_suá', 'neighbourhood_estrelinha',\n",
       "       'neighbourhood_fonte_grande', 'neighbourhood_forte_são_joão',\n",
       "       'neighbourhood_fradinhos', 'neighbourhood_goiabeiras',\n",
       "       'neighbourhood_grande_vitória', 'neighbourhood_gurigica',\n",
       "       'neighbourhood_horto', 'neighbourhood_ilha_das_caieiras',\n",
       "       'neighbourhood_ilha_de_santa_maria', 'neighbourhood_ilha_do_boi',\n",
       "       'neighbourhood_ilha_do_frade', 'neighbourhood_ilha_do_príncipe',\n",
       "       'neighbourhood_ilhas_oceânicas_de_trindade',\n",
       "       'neighbourhood_inhanguetá', 'neighbourhood_itararé',\n",
       "       'neighbourhood_jabour', 'neighbourhood_jardim_camburi',\n",
       "       'neighbourhood_jardim_da_penha', 'neighbourhood_jesus_de_nazareth',\n",
       "       'neighbourhood_joana_d´arc', 'neighbourhood_jucutuquara',\n",
       "       'neighbourhood_maria_ortiz', 'neighbourhood_maruípe',\n",
       "       'neighbourhood_mata_da_praia', 'neighbourhood_monte_belo',\n",
       "       'neighbourhood_morada_de_camburi', 'neighbourhood_mário_cypreste',\n",
       "       'neighbourhood_nazareth', 'neighbourhood_nova_palestina',\n",
       "       'neighbourhood_parque_moscoso', 'neighbourhood_piedade',\n",
       "       'neighbourhood_pontal_de_camburi', 'neighbourhood_praia_do_canto',\n",
       "       'neighbourhood_praia_do_suá', 'neighbourhood_redenção',\n",
       "       'neighbourhood_república', 'neighbourhood_resistência',\n",
       "       'neighbourhood_romão', 'neighbourhood_santa_cecília',\n",
       "       'neighbourhood_santa_clara', 'neighbourhood_santa_helena',\n",
       "       'neighbourhood_santa_luíza', 'neighbourhood_santa_lúcia',\n",
       "       'neighbourhood_santa_martha', 'neighbourhood_santa_tereza',\n",
       "       'neighbourhood_santo_andré', 'neighbourhood_santo_antônio',\n",
       "       'neighbourhood_santos_dumont', 'neighbourhood_santos_reis',\n",
       "       'neighbourhood_segurança_do_lar', 'neighbourhood_solon_borges',\n",
       "       'neighbourhood_são_benedito', 'neighbourhood_são_cristóvão',\n",
       "       'neighbourhood_são_josé', 'neighbourhood_são_pedro',\n",
       "       'neighbourhood_tabuazeiro', 'neighbourhood_universitário',\n",
       "       'neighbourhood_vila_rubim'], dtype=object)"
      ]
     },
     "execution_count": 28,
     "metadata": {},
     "output_type": "execute_result"
    }
   ],
   "source": [
    "ohe = OneHotEncoder(sparse=False, handle_unknown='ignore')\n",
    "X_train_cat = ohe.fit_transform(df_train[categorical])\n",
    "ohe.get_feature_names_out()"
   ]
  },
  {
   "cell_type": "code",
   "execution_count": 29,
   "metadata": {},
   "outputs": [],
   "source": [
    "X_train = np.column_stack([X_train_num, X_train_cat])"
   ]
  },
  {
   "cell_type": "code",
   "execution_count": 30,
   "metadata": {},
   "outputs": [],
   "source": [
    "features = [feature for feature in np.append(scaler.get_feature_names_out(),ohe.get_feature_names_out())]"
   ]
  },
  {
   "cell_type": "markdown",
   "metadata": {},
   "source": [
    "### Validation set: Transformation"
   ]
  },
  {
   "cell_type": "code",
   "execution_count": 31,
   "metadata": {},
   "outputs": [
    {
     "name": "stderr",
     "output_type": "stream",
     "text": [
      "/home/ubuntu/miniconda3/envs/ml-zoomcamp/lib/python3.9/site-packages/sklearn/base.py:464: UserWarning: X does not have valid feature names, but StandardScaler was fitted with feature names\n",
      "  warnings.warn(\n",
      "/home/ubuntu/miniconda3/envs/ml-zoomcamp/lib/python3.9/site-packages/sklearn/base.py:464: UserWarning: X does not have valid feature names, but OneHotEncoder was fitted with feature names\n",
      "  warnings.warn(\n"
     ]
    }
   ],
   "source": [
    "X_val_num = df_val[numerical].values\n",
    "X_val_num = scaler.transform(X_val_num)\n",
    "\n",
    "X_val_cat = ohe.transform(df_val[categorical].values)\n",
    "\n",
    "X_val = np.column_stack([X_val_num, X_val_cat])"
   ]
  },
  {
   "cell_type": "markdown",
   "metadata": {},
   "source": [
    "# Modelling"
   ]
  },
  {
   "cell_type": "markdown",
   "metadata": {},
   "source": [
    "## Evaluation Metric: ROC AUC Curve\n",
    "* https://en.wikipedia.org/wiki/Receiver_operating_characteristic"
   ]
  },
  {
   "cell_type": "markdown",
   "metadata": {},
   "source": [
    "## Baselines\n",
    "\n",
    "We use two models to set baselines for our evaluation metric:\n",
    "* Baseline-I: predict 'no_show' = 0 or 1 randomly\n",
    "* Baseline-II: predict all 'no_show's as 1"
   ]
  },
  {
   "cell_type": "code",
   "execution_count": 32,
   "metadata": {},
   "outputs": [
    {
     "name": "stdout",
     "output_type": "stream",
     "text": [
      "0.5037288703690589\n",
      "0.49892427085435487\n"
     ]
    }
   ],
   "source": [
    "y_fit_random = np.random.choice([0, 1], size=len(y_train))\n",
    "y_pred_random = np.random.choice([0, 1], size=len(y_val))\n",
    "\n",
    "print(roc_auc_score(y_train, y_fit_random))\n",
    "print(roc_auc_score(y_val, y_pred_random))"
   ]
  },
  {
   "cell_type": "code",
   "execution_count": 33,
   "metadata": {},
   "outputs": [
    {
     "name": "stdout",
     "output_type": "stream",
     "text": [
      "0.5\n",
      "0.5\n"
     ]
    }
   ],
   "source": [
    "y_fit_allone = np.ones(len(y_train))\n",
    "y_pred_allone = np.ones(len(y_val))\n",
    "\n",
    "print(roc_auc_score(y_train, y_fit_allone))\n",
    "print(roc_auc_score(y_val, y_pred_allone))"
   ]
  },
  {
   "cell_type": "markdown",
   "metadata": {},
   "source": [
    "## Logistic Regression"
   ]
  },
  {
   "cell_type": "markdown",
   "metadata": {},
   "source": [
    "### Base model"
   ]
  },
  {
   "cell_type": "code",
   "execution_count": 34,
   "metadata": {},
   "outputs": [
    {
     "name": "stdout",
     "output_type": "stream",
     "text": [
      "...defining model\n",
      "...fitting training data\n",
      "...evaluation of fit\n",
      "Accuracy: 0.7970896478926336\n",
      "AUC ROC: 0.6846598930764093\n",
      "...prediction scores on validation set\n",
      "Accuracy: 0.7899665249253597\n",
      "AUC ROC: 0.6856934654546\n"
     ]
    }
   ],
   "source": [
    "print('...defining model')\n",
    "lr = LogisticRegression(solver='lbfgs', max_iter=1000, random_state=42)\n",
    "\n",
    "print('...fitting training data')\n",
    "lr.fit(X_train, y_train)\n",
    "\n",
    "# fitting to training set\n",
    "print('...evaluation of fit')\n",
    "y_fit = lr.predict_proba(X_train)[:, 1]\n",
    "print('Accuracy:', accuracy_score(y_train, y_fit >= 0.5))\n",
    "print('AUC ROC:', roc_auc_score(y_train, y_fit))\n",
    "\n",
    "# validation set predictions\n",
    "print('...prediction scores on validation set')\n",
    "y_pred = lr.predict_proba(X_val)[:, 1]\n",
    "print('Accuracy:', accuracy_score(y_val, y_pred >= 0.5))\n",
    "print('AUC ROC:', roc_auc_score(y_val, y_pred))"
   ]
  },
  {
   "cell_type": "code",
   "execution_count": 35,
   "metadata": {},
   "outputs": [],
   "source": [
    "#lr.intercept_[0]"
   ]
  },
  {
   "cell_type": "code",
   "execution_count": 36,
   "metadata": {},
   "outputs": [],
   "source": [
    "#lr.coef_[0].round(3)"
   ]
  },
  {
   "cell_type": "markdown",
   "metadata": {},
   "source": [
    "### Hyper-parameter tuning: Regularisation parameter, C"
   ]
  },
  {
   "cell_type": "code",
   "execution_count": 37,
   "metadata": {},
   "outputs": [
    {
     "name": "stdout",
     "output_type": "stream",
     "text": [
      "C    Accuracy    ROC\n",
      "0.001      0.79218 0.68277\n",
      "0.01       0.79150 0.68638\n",
      "0.1        0.79037 0.68608\n",
      "1          0.78997 0.68569\n",
      "10         0.79006 0.68568\n",
      "100        0.79006 0.68568\n"
     ]
    }
   ],
   "source": [
    "print('C    Accuracy    ROC')\n",
    "\n",
    "for C in [0.001, 0.01, 0.1, 1, 10, 100]:\n",
    "\n",
    "    lr = LogisticRegression(solver='lbfgs', C=C, max_iter=1000, random_state=42)\n",
    "    lr.fit(X_train, y_train)\n",
    "\n",
    "    y_pred = lr.predict_proba(X_val)[:, 1]\n",
    "    print(f'{C:<10} {accuracy_score(y_val, y_pred >= 0.5):0.5f} {roc_auc_score(y_val, y_pred):0.5f}')"
   ]
  },
  {
   "cell_type": "markdown",
   "metadata": {},
   "source": [
    "### Best Model: C = 0.01"
   ]
  },
  {
   "cell_type": "code",
   "execution_count": 38,
   "metadata": {},
   "outputs": [
    {
     "name": "stdout",
     "output_type": "stream",
     "text": [
      "...defining model with C=0.01\n",
      "...fitting training data\n",
      "...evaluation of fit\n",
      "Accuracy: 0.7983261705496494\n",
      "AUC ROC: 0.6824090290622524\n",
      "...prediction scores on validation set\n",
      "Accuracy: 0.7915045688953225\n",
      "AUC ROC: 0.6863839657551538\n"
     ]
    }
   ],
   "source": [
    "print('...defining model with C=0.01')\n",
    "lr_best = LogisticRegression(solver='lbfgs', max_iter=1000, random_state=42, C=0.01)\n",
    "\n",
    "print('...fitting training data')\n",
    "lr_best.fit(X_train, y_train)\n",
    "\n",
    "# fitting to training set\n",
    "print('...evaluation of fit')\n",
    "y_fit = lr_best.predict_proba(X_train)[:, 1]\n",
    "print('Accuracy:', accuracy_score(y_train, y_fit >= 0.5))\n",
    "print('AUC ROC:', roc_auc_score(y_train, y_fit))\n",
    "\n",
    "# validation set predictions\n",
    "print('...prediction scores on validation set')\n",
    "y_pred = lr_best.predict_proba(X_val)[:, 1]\n",
    "print('Accuracy:', accuracy_score(y_val, y_pred >= 0.5))\n",
    "print('AUC ROC:', roc_auc_score(y_val, y_pred))"
   ]
  },
  {
   "cell_type": "markdown",
   "metadata": {},
   "source": [
    "## Decision Trees"
   ]
  },
  {
   "cell_type": "markdown",
   "metadata": {},
   "source": [
    "### Base Model"
   ]
  },
  {
   "cell_type": "code",
   "execution_count": 39,
   "metadata": {},
   "outputs": [
    {
     "name": "stdout",
     "output_type": "stream",
     "text": [
      "...defining model\n",
      "...fitting training data\n",
      "...evaluation of fit\n",
      "Accuracy: 0.9999547613662068\n",
      "AUC ROC: 0.9999999936197187\n",
      "...prediction scores on validation set\n",
      "Accuracy: 0.7265900660454175\n",
      "AUC ROC: 0.5797159158194144\n"
     ]
    }
   ],
   "source": [
    "print('...defining model')\n",
    "dt = DecisionTreeClassifier()\n",
    "\n",
    "print('...fitting training data')\n",
    "dt.fit(X_train, y_train)\n",
    "\n",
    "# fitting to training set\n",
    "print('...evaluation of fit')\n",
    "y_fit = dt.predict_proba(X_train)[:, 1]\n",
    "print('Accuracy:', accuracy_score(y_train, y_fit >= 0.5))\n",
    "print('AUC ROC:', roc_auc_score(y_train, y_fit))\n",
    "\n",
    "# validation set predictions\n",
    "print('...prediction scores on validation set')\n",
    "y_pred = dt.predict_proba(X_val)[:, 1]\n",
    "print('Accuracy:', accuracy_score(y_val, y_pred >= 0.5))\n",
    "print('AUC ROC:', roc_auc_score(y_val, y_pred))"
   ]
  },
  {
   "cell_type": "markdown",
   "metadata": {},
   "source": [
    "### Hyperparameter tuning: `max_depth`, `min_samples_leaf`"
   ]
  },
  {
   "cell_type": "code",
   "execution_count": 40,
   "metadata": {},
   "outputs": [
    {
     "name": "stdout",
     "output_type": "stream",
     "text": [
      "   1 -> 0.596\n",
      "   2 -> 0.642\n",
      "   3 -> 0.667\n",
      "   4 -> 0.684\n",
      "   5 -> 0.697\n",
      "   6 -> 0.708\n",
      "  10 -> 0.707\n",
      "  15 -> 0.674\n",
      "  20 -> 0.608\n",
      "None -> 0.577\n"
     ]
    }
   ],
   "source": [
    "depths = [1, 2, 3, 4, 5, 6, 10, 15, 20, None]\n",
    "\n",
    "for depth in depths: \n",
    "    dt = DecisionTreeClassifier(max_depth=depth)\n",
    "    dt.fit(X_train, y_train)\n",
    "    \n",
    "    y_pred = dt.predict_proba(X_val)[:, 1]\n",
    "    auc = roc_auc_score(y_val, y_pred)\n",
    "    \n",
    "    print('%4s -> %.3f' % (depth, auc))"
   ]
  },
  {
   "cell_type": "code",
   "execution_count": 41,
   "metadata": {},
   "outputs": [
    {
     "data": {
      "text/html": [
       "<div>\n",
       "<style scoped>\n",
       "    .dataframe tbody tr th:only-of-type {\n",
       "        vertical-align: middle;\n",
       "    }\n",
       "\n",
       "    .dataframe tbody tr th {\n",
       "        vertical-align: top;\n",
       "    }\n",
       "\n",
       "    .dataframe thead tr th {\n",
       "        text-align: left;\n",
       "    }\n",
       "\n",
       "    .dataframe thead tr:last-of-type th {\n",
       "        text-align: right;\n",
       "    }\n",
       "</style>\n",
       "<table border=\"1\" class=\"dataframe\">\n",
       "  <thead>\n",
       "    <tr>\n",
       "      <th></th>\n",
       "      <th colspan=\"7\" halign=\"left\">auc</th>\n",
       "    </tr>\n",
       "    <tr>\n",
       "      <th>max_depth</th>\n",
       "      <th>5</th>\n",
       "      <th>10</th>\n",
       "      <th>15</th>\n",
       "      <th>20</th>\n",
       "      <th>25</th>\n",
       "      <th>30</th>\n",
       "      <th>50</th>\n",
       "    </tr>\n",
       "    <tr>\n",
       "      <th>min_samples_leaf</th>\n",
       "      <th></th>\n",
       "      <th></th>\n",
       "      <th></th>\n",
       "      <th></th>\n",
       "      <th></th>\n",
       "      <th></th>\n",
       "      <th></th>\n",
       "    </tr>\n",
       "  </thead>\n",
       "  <tbody>\n",
       "    <tr>\n",
       "      <th>10</th>\n",
       "      <td>0.697</td>\n",
       "      <td>0.707</td>\n",
       "      <td>0.673</td>\n",
       "      <td>0.650</td>\n",
       "      <td>0.646</td>\n",
       "      <td>0.646</td>\n",
       "      <td>0.646</td>\n",
       "    </tr>\n",
       "    <tr>\n",
       "      <th>50</th>\n",
       "      <td>0.697</td>\n",
       "      <td>0.718</td>\n",
       "      <td>0.708</td>\n",
       "      <td>0.708</td>\n",
       "      <td>0.708</td>\n",
       "      <td>0.708</td>\n",
       "      <td>0.708</td>\n",
       "    </tr>\n",
       "    <tr>\n",
       "      <th>100</th>\n",
       "      <td>0.696</td>\n",
       "      <td>0.719</td>\n",
       "      <td>0.718</td>\n",
       "      <td>0.718</td>\n",
       "      <td>0.718</td>\n",
       "      <td>0.718</td>\n",
       "      <td>0.718</td>\n",
       "    </tr>\n",
       "    <tr>\n",
       "      <th>500</th>\n",
       "      <td>0.697</td>\n",
       "      <td>0.721</td>\n",
       "      <td>0.725</td>\n",
       "      <td>0.725</td>\n",
       "      <td>0.725</td>\n",
       "      <td>0.725</td>\n",
       "      <td>0.725</td>\n",
       "    </tr>\n",
       "    <tr>\n",
       "      <th>1000</th>\n",
       "      <td>0.697</td>\n",
       "      <td>0.719</td>\n",
       "      <td>0.721</td>\n",
       "      <td>0.721</td>\n",
       "      <td>0.721</td>\n",
       "      <td>0.721</td>\n",
       "      <td>0.721</td>\n",
       "    </tr>\n",
       "    <tr>\n",
       "      <th>5000</th>\n",
       "      <td>0.682</td>\n",
       "      <td>0.682</td>\n",
       "      <td>0.682</td>\n",
       "      <td>0.682</td>\n",
       "      <td>0.682</td>\n",
       "      <td>0.682</td>\n",
       "      <td>0.682</td>\n",
       "    </tr>\n",
       "  </tbody>\n",
       "</table>\n",
       "</div>"
      ],
      "text/plain": [
       "                    auc                                          \n",
       "max_depth            5      10     15     20     25     30     50\n",
       "min_samples_leaf                                                 \n",
       "10                0.697  0.707  0.673  0.650  0.646  0.646  0.646\n",
       "50                0.697  0.718  0.708  0.708  0.708  0.708  0.708\n",
       "100               0.696  0.719  0.718  0.718  0.718  0.718  0.718\n",
       "500               0.697  0.721  0.725  0.725  0.725  0.725  0.725\n",
       "1000              0.697  0.719  0.721  0.721  0.721  0.721  0.721\n",
       "5000              0.682  0.682  0.682  0.682  0.682  0.682  0.682"
      ]
     },
     "execution_count": 41,
     "metadata": {},
     "output_type": "execute_result"
    }
   ],
   "source": [
    "scores = []\n",
    "\n",
    "for depth in [5, 10, 15, 20, 25, 30, 50]:\n",
    "    for s in [10, 50, 100, 500, 1000, 5000]:\n",
    "        dt = DecisionTreeClassifier(max_depth=depth, min_samples_leaf=s)\n",
    "        dt.fit(X_train, y_train)\n",
    "\n",
    "        y_pred = dt.predict_proba(X_val)[:, 1]\n",
    "        auc = roc_auc_score(y_val, y_pred)\n",
    "        \n",
    "        scores.append((depth, s, auc))\n",
    "        \n",
    "columns = ['max_depth', 'min_samples_leaf', 'auc']\n",
    "df_scores = pd.DataFrame(scores, columns=columns)\n",
    "df_scores_pivot = df_scores.pivot(index='min_samples_leaf', columns=['max_depth'], values=['auc'])\n",
    "df_scores_pivot.round(3)"
   ]
  },
  {
   "cell_type": "code",
   "execution_count": 42,
   "metadata": {},
   "outputs": [
    {
     "data": {
      "text/plain": [
       "<Axes: xlabel='None-max_depth', ylabel='min_samples_leaf'>"
      ]
     },
     "execution_count": 42,
     "metadata": {},
     "output_type": "execute_result"
    },
    {
     "data": {
      "image/png": "[encoded data removed]",
      "text/plain": [
       "<Figure size 640x480 with 2 Axes>"
      ]
     },
     "metadata": {},
     "output_type": "display_data"
    }
   ],
   "source": [
    "sns.heatmap(df_scores_pivot, annot=True, fmt=\".3f\")"
   ]
  },
  {
   "cell_type": "markdown",
   "metadata": {},
   "source": [
    "### Best Model \n",
    "\n",
    "* max_depth=15, \n",
    "* min_samples_leaf=500"
   ]
  },
  {
   "cell_type": "code",
   "execution_count": 43,
   "metadata": {},
   "outputs": [
    {
     "name": "stdout",
     "output_type": "stream",
     "text": [
      "...defining model with max_depth=15, min_samples_leaf=500\n",
      "...fitting training data\n",
      "...evaluation of fit\n",
      "Accuracy: 0.7993666591268944\n",
      "AUC ROC: 0.7242365975632572\n",
      "...prediction scores on validation set\n",
      "Accuracy: 0.7929521396905818\n",
      "AUC ROC: 0.7245582721914817\n"
     ]
    }
   ],
   "source": [
    "print('...defining model with max_depth=15, min_samples_leaf=500')\n",
    "dt_best = DecisionTreeClassifier(criterion='log_loss', \n",
    "                            max_depth=15, \n",
    "                            min_samples_leaf=500)\n",
    "\n",
    "print('...fitting training data')\n",
    "dt_best.fit(X_train, y_train)\n",
    "\n",
    "# fitting to training set\n",
    "print('...evaluation of fit')\n",
    "y_fit = dt_best.predict_proba(X_train)[:, 1]\n",
    "print('Accuracy:', accuracy_score(y_train, y_fit >= 0.5))\n",
    "print('AUC ROC:', roc_auc_score(y_train, y_fit))\n",
    "\n",
    "# validation set predictions\n",
    "print('...prediction scores on validation set')\n",
    "y_pred = dt_best.predict_proba(X_val)[:, 1]\n",
    "print('Accuracy:', accuracy_score(y_val, y_pred >= 0.5))\n",
    "print('AUC ROC:', roc_auc_score(y_val, y_pred))"
   ]
  },
  {
   "cell_type": "markdown",
   "metadata": {},
   "source": [
    "## Ensembles and random forest"
   ]
  },
  {
   "cell_type": "code",
   "execution_count": null,
   "metadata": {},
   "outputs": [
    {
     "name": "stdout",
     "output_type": "stream",
     "text": [
      "...defining model\n",
      "...fitting training data\n"
     ]
    }
   ],
   "source": [
    "print('...defining model')\n",
    "rf = RandomForestClassifier()\n",
    "\n",
    "print('...fitting training data')\n",
    "rf.fit(X_train, y_train)\n",
    "\n",
    "# fitting to training set\n",
    "print('...evaluation of fit')\n",
    "y_fit = rf.predict_proba(X_train)[:, 1]\n",
    "print('Accuracy:', accuracy_score(y_train, y_fit >= 0.5))\n",
    "print('AUC ROC:', roc_auc_score(y_train, y_fit))\n",
    "\n",
    "# validation set predictions\n",
    "print('...prediction scores on validation set')\n",
    "y_pred = rf.predict_proba(X_val)[:, 1]\n",
    "print('Accuracy:', accuracy_score(y_val, y_pred >= 0.5))\n",
    "print('AUC ROC:', roc_auc_score(y_val, y_pred))"
   ]
  },
  {
   "cell_type": "markdown",
   "metadata": {},
   "source": [
    "### Hyper-parameter tuning\n",
    "\n",
    "* n_estimators\n",
    "* max_depth\n",
    "* min_samples_leaf"
   ]
  },
  {
   "cell_type": "code",
   "execution_count": null,
   "metadata": {},
   "outputs": [],
   "source": [
    "scores = []\n",
    "\n",
    "for n in range(50, 1001, 50):\n",
    "    rf = RandomForestClassifier(n_estimators=n, random_state=1)\n",
    "    rf.fit(X_train, y_train)\n",
    "\n",
    "    y_pred = rf.predict_proba(X_val)[:, 1]\n",
    "    auc = roc_auc_score(y_val, y_pred)\n",
    "    \n",
    "    scores.append((n, auc))\n",
    "\n",
    "df_scores = pd.DataFrame(scores, columns=['n_estimators', 'auc'])\n",
    "\n",
    "plt.plot(df_scores.n_estimators, df_scores.auc)"
   ]
  },
  {
   "cell_type": "code",
   "execution_count": null,
   "metadata": {},
   "outputs": [],
   "source": [
    "n_estimators = 500"
   ]
  },
  {
   "cell_type": "code",
   "execution_count": null,
   "metadata": {},
   "outputs": [],
   "source": [
    "scores = []\n",
    "\n",
    "for s in [3, 5, 10, 50]:\n",
    "    for d in [10, 20, 30, 50]:\n",
    "        rf = RandomForestClassifier(n_estimators=n_estimators,\n",
    "                                    max_depth=d,\n",
    "                                    min_samples_leaf=s,\n",
    "                                    random_state=1)\n",
    "        rf.fit(X_train, y_train)\n",
    "\n",
    "        y_pred = rf.predict_proba(X_val)[:, 1]\n",
    "        auc = roc_auc_score(y_val, y_pred)\n",
    "\n",
    "        scores.append((s, d, auc))\n",
    "\n",
    "        \n",
    "columns = ['min_samples_leaf', 'max_depth', 'auc']\n",
    "df_scores = pd.DataFrame(scores, columns=columns)"
   ]
  },
  {
   "cell_type": "code",
   "execution_count": null,
   "metadata": {},
   "outputs": [],
   "source": [
    "df_scores_pivot = df_scores.pivot(index='min_samples_leaf', columns=['max_depth'], values=['auc'])\n",
    "df_scores_pivot.round(3)\n",
    "sns.heatmap(df_scores_pivot, annot=True, fmt=\".3f\")"
   ]
  },
  {
   "cell_type": "markdown",
   "metadata": {},
   "source": [
    "### Best Model"
   ]
  },
  {
   "cell_type": "code",
   "execution_count": null,
   "metadata": {},
   "outputs": [],
   "source": [
    "print('...defining model')\n",
    "rf_best = RandomForestClassifier(n_estimators=500,\n",
    "                            max_depth=3,\n",
    "                            min_samples_leaf=50,\n",
    "                            random_state=1)\n",
    "\n",
    "print('...fitting training data')\n",
    "rf_best.fit(X_train, y_train)\n",
    "\n",
    "# fitting to training set\n",
    "print('...evaluation of fit')\n",
    "y_fit = rf_best.predict_proba(X_train)[:, 1]\n",
    "print('Accuracy:', accuracy_score(y_train, y_fit >= 0.5))\n",
    "print('AUC ROC:', roc_auc_score(y_train, y_fit))\n",
    "\n",
    "# validation set predictions\n",
    "print('...prediction scores on validation set')\n",
    "y_pred = rf_best.predict_proba(X_val)[:, 1]\n",
    "print('Accuracy:', accuracy_score(y_val, y_pred >= 0.5))\n",
    "print('AUC ROC:', roc_auc_score(y_val, y_pred))"
   ]
  },
  {
   "cell_type": "markdown",
   "metadata": {},
   "source": [
    "### Feature importance"
   ]
  },
  {
   "cell_type": "code",
   "execution_count": null,
   "metadata": {},
   "outputs": [],
   "source": [
    "importances = rf_best.feature_importances_\n",
    "\n",
    "forest_importances = pd.Series(importances, index=features)\n",
    "\n",
    "print('10 most important')\n",
    "display(forest_importances.sort_values(ascending=False)[:10])\n",
    "\n",
    "print('10 least important')\n",
    "display(forest_importances.sort_values(ascending=False)[-10:])"
   ]
  },
  {
   "cell_type": "code",
   "execution_count": null,
   "metadata": {},
   "outputs": [],
   "source": [
    "forest_importances[forest_importances > 0.005]"
   ]
  },
  {
   "cell_type": "markdown",
   "metadata": {},
   "source": [
    "## Gradient boosting and XGBoost"
   ]
  },
  {
   "cell_type": "code",
   "execution_count": null,
   "metadata": {},
   "outputs": [],
   "source": [
    "def parse_xgb_output(output):\n",
    "    results = []\n",
    "\n",
    "    for line in output.stdout.strip().split('\\n'):\n",
    "        it_line, train_line, val_line = line.split('\\t')\n",
    "\n",
    "        it = int(it_line.strip('[]'))\n",
    "        train = float(train_line.split(':')[1])\n",
    "        val = float(val_line.split(':')[1])\n",
    "\n",
    "        results.append((it, train, val))\n",
    "    \n",
    "    columns = ['num_iter', 'train_auc', 'val_auc']\n",
    "    df_results = pd.DataFrame(results, columns=columns)\n",
    "    return df_results"
   ]
  },
  {
   "cell_type": "code",
   "execution_count": null,
   "metadata": {},
   "outputs": [],
   "source": [
    "dtrain = xgb.DMatrix(X_train, label=y_train, feature_names=features)\n",
    "dval = xgb.DMatrix(X_val, label=y_val, feature_names=features)"
   ]
  },
  {
   "cell_type": "code",
   "execution_count": null,
   "metadata": {},
   "outputs": [],
   "source": [
    "watchlist = [(dtrain, 'train'), (dval, 'val')]"
   ]
  },
  {
   "cell_type": "code",
   "execution_count": null,
   "metadata": {},
   "outputs": [],
   "source": [
    "%%capture output\n",
    "\n",
    "xgb_params = {\n",
    "    'eta': 0.3, \n",
    "    'max_depth': 6,\n",
    "    'min_child_weight': 1,\n",
    "    \n",
    "    'objective': 'binary:logistic',\n",
    "    'eval_metric': 'auc',\n",
    "\n",
    "    'nthread': 8,\n",
    "    'seed': 1,\n",
    "    'verbosity': 1,\n",
    "}\n",
    "\n",
    "model = xgb.train(xgb_params, dtrain, num_boost_round=200,\n",
    "                  verbose_eval=5,\n",
    "                  evals=watchlist)"
   ]
  },
  {
   "cell_type": "code",
   "execution_count": null,
   "metadata": {},
   "outputs": [],
   "source": [
    "df_score = parse_xgb_output(output)"
   ]
  },
  {
   "cell_type": "code",
   "execution_count": null,
   "metadata": {},
   "outputs": [],
   "source": [
    "plt.plot(df_score.num_iter, df_score.train_auc, label='train')\n",
    "plt.plot(df_score.num_iter, df_score.val_auc, label='val')\n",
    "plt.legend()"
   ]
  },
  {
   "cell_type": "code",
   "execution_count": null,
   "metadata": {},
   "outputs": [],
   "source": [
    "plt.plot(df_score.num_iter, df_score.val_auc, label='val')\n",
    "plt.legend()"
   ]
  },
  {
   "cell_type": "markdown",
   "metadata": {},
   "source": [
    "### Hyper-parameter tuning\n",
    "\n",
    "Tuning the following parameters:\n",
    "\n",
    "* eta\n",
    "* max_depth\n",
    "* min_child_weight"
   ]
  },
  {
   "cell_type": "code",
   "execution_count": null,
   "metadata": {},
   "outputs": [],
   "source": [
    "xgb_model = xgb.XGBClassifier()"
   ]
  },
  {
   "cell_type": "code",
   "execution_count": null,
   "metadata": {},
   "outputs": [],
   "source": [
    "xgb_params = {\n",
    "              'eta': [0.01, 0.1, 1, 10],\n",
    "              'max_depth': [3, 6, 9, 12],\n",
    "              'min_child_weight': [1,10, 30]\n",
    "              }"
   ]
  },
  {
   "cell_type": "code",
   "execution_count": null,
   "metadata": {},
   "outputs": [],
   "source": [
    "clf = GridSearchCV(xgb_model, xgb_params, scoring='roc_auc')\n",
    "\n",
    "clf.fit(X_train, y_train)"
   ]
  },
  {
   "cell_type": "code",
   "execution_count": null,
   "metadata": {},
   "outputs": [],
   "source": [
    "clf.best_score_, clf.best_params_"
   ]
  },
  {
   "cell_type": "code",
   "execution_count": null,
   "metadata": {},
   "outputs": [],
   "source": [
    "print('...defining best model')\n",
    "xgb_best = xgb.XGBClassifier(eta=0.1, \n",
    "                             max_depth=9,\n",
    "                             min_child_weight=1)\n",
    "\n",
    "print('...fitting training data')\n",
    "xgb_best.fit(X_train, y_train)\n",
    "\n",
    "# fitting to training set\n",
    "print('...evaluation of fit')\n",
    "y_fit = xgb_best.predict_proba(X_train)[:, 1]\n",
    "print('Accuracy:', accuracy_score(y_train, y_fit >= 0.5))\n",
    "print('AUC ROC:', roc_auc_score(y_train, y_fit))\n",
    "\n",
    "# validation set predictions\n",
    "print('...prediction scores on validation set')\n",
    "y_pred = xgb_best.predict_proba(X_val)[:, 1]\n",
    "print('Accuracy:', accuracy_score(y_val, y_pred >= 0.5))\n",
    "print('AUC ROC:', roc_auc_score(y_val, y_pred))"
   ]
  },
  {
   "cell_type": "markdown",
   "metadata": {},
   "source": [
    "## LightGBM\n",
    "* https://github.com/Microsoft/LightGBM"
   ]
  },
  {
   "cell_type": "code",
   "execution_count": null,
   "metadata": {},
   "outputs": [],
   "source": [
    "lgb_clf = lgb.LGBMClassifier()\n",
    "lgb_clf.fit(X_train, y_train)\n",
    "\n",
    "# fitting to training set\n",
    "print('...evaluation of fit')\n",
    "y_fit = lgb_clf.predict_proba(X_train)[:, 1]\n",
    "print('Accuracy:', accuracy_score(y_train, y_fit >= 0.5))\n",
    "print('AUC ROC:', roc_auc_score(y_train, y_fit))\n",
    "\n",
    "# validation set predictions\n",
    "print('...prediction scores on validation set')\n",
    "y_pred = lgb_clf.predict_proba(X_val)[:, 1]\n",
    "print('Accuracy:', accuracy_score(y_val, y_pred >= 0.5))\n",
    "print('AUC ROC:', roc_auc_score(y_val, y_pred))"
   ]
  },
  {
   "cell_type": "markdown",
   "metadata": {},
   "source": [
    "### Hyper-parameter tuning"
   ]
  },
  {
   "cell_type": "code",
   "execution_count": null,
   "metadata": {},
   "outputs": [],
   "source": [
    "lgbm = lgb.LGBMClassifier()\n",
    "\n",
    "lgbm_params = {\n",
    "              'n_estimators': [10, 50, 100, 500],\n",
    "              'max_depth': [3, 6, 9, 12],\n",
    "              'learning_rate' : [0.01, 0.1, 1.0],\n",
    "              'boosting_type' : ['gbdt', 'dart', 'goss']\n",
    "              }\n",
    "\n",
    "clf = GridSearchCV(lgb_clf, lgb_params, scoring='roc_auc')\n",
    "\n",
    "clf.fit(X_train, y_train)"
   ]
  },
  {
   "cell_type": "code",
   "execution_count": null,
   "metadata": {},
   "outputs": [],
   "source": [
    "clf.best_score_, clf.best_params_"
   ]
  },
  {
   "cell_type": "markdown",
   "metadata": {},
   "source": [
    "### Best Model"
   ]
  },
  {
   "cell_type": "code",
   "execution_count": null,
   "metadata": {},
   "outputs": [],
   "source": [
    "print('...defining best model')\n",
    "lgbm_best = lgb.LGBMClassifier(boosting_type='dart',\n",
    "                                learning_rate=0.1,\n",
    "                                max_depth=12,\n",
    "                                n_estimators=500)\n",
    "\n",
    "print('...fitting training data')\n",
    "lgbm_best.fit(X_train, y_train)\n",
    "\n",
    "# fitting to training set\n",
    "print('...evaluation of fit')\n",
    "y_fit = lgbm_best.predict_proba(X_train)[:, 1]\n",
    "print('Accuracy:', accuracy_score(y_train, y_fit >= 0.5))\n",
    "print('AUC ROC:', roc_auc_score(y_train, y_fit))\n",
    "\n",
    "# validation set predictions\n",
    "print('...prediction scores on validation set')\n",
    "y_pred = lgbm_best.predict_proba(X_val)[:, 1]\n",
    "print('Accuracy:', accuracy_score(y_val, y_pred >= 0.5))\n",
    "print('AUC ROC:', roc_auc_score(y_val, y_pred))"
   ]
  },
  {
   "cell_type": "markdown",
   "metadata": {},
   "source": [
    "## Summary Table: Modelling"
   ]
  },
  {
   "cell_type": "code",
   "execution_count": null,
   "metadata": {},
   "outputs": [],
   "source": [
    "print(f\"|{'Model':<30} | Accuracy \\t| ROC AUC \\t|\")\n",
    "print(f\"|{'-----':<30} | -------- \\t| ------- \\t|\")\n",
    "\n",
    "for model in [lr_best, dt_best, rf_best, xgb_best, lgbm_best]:\n",
    "\n",
    "    model_name = f\"{model}\".split(\"(\")[0]\n",
    "    y_pred = model.predict_proba(X_val)[:, 1]\n",
    "\n",
    "    print(f\"|{model_name:<30} | {accuracy_score(y_val, y_pred >= 0.5):0.3f} \\t| {roc_auc_score(y_val, y_pred):0.3f} \\t|\")"
   ]
  },
  {
   "cell_type": "markdown",
   "metadata": {},
   "source": [
    "# Saving models"
   ]
  },
  {
   "cell_type": "code",
   "execution_count": null,
   "metadata": {},
   "outputs": [],
   "source": [
    "for model in [lr_best, dt_best, rf_best, xgb_best, lgbm_best]:\n",
    "\n",
    "    model_name = f\"{model}\".split(\"(\")[0]\n",
    "\n",
    "    with open(f'../models/{model_name}.bin', 'wb') as f_out: # 'wb' means write-binary\n",
    "        pickle.dump((scaler, ohe, model), f_out)"
   ]
  },
  {
   "cell_type": "markdown",
   "metadata": {},
   "source": [
    "# Final Model: LGBMClassifier\n",
    "\n",
    "* Loading the data again\n",
    "* Cleaning and Preparing the data\n",
    "* Feature engineering\n",
    "* Separating target variable\n",
    "* Reduce to relevant features\n",
    "* Scaling and encoding numerical and categorical variables\n",
    "* Hyper-parameter tuning\n",
    "* Training using best LGBMClassifier parameters\n",
    "* Saving encoders and final model"
   ]
  },
  {
   "cell_type": "code",
   "execution_count": null,
   "metadata": {},
   "outputs": [],
   "source": [
    "data_loc = '../data/KaggleV2-May-2016.csv'\n",
    "\n",
    "df = pd.read_csv(data_loc, \n",
    "                 parse_dates=['ScheduledDay', 'AppointmentDay'],\n",
    "                 dtype={\n",
    "                            'Scholarship':'bool',\n",
    "                            'Hipertension':'bool',\n",
    "                            'Diabetes':'bool',\n",
    "                            'Alcoholism':'bool',\n",
    "                            'SMS_received':'bool'\n",
    "                     }\n",
    "              )"
   ]
  },
  {
   "cell_type": "code",
   "execution_count": null,
   "metadata": {},
   "outputs": [],
   "source": [
    "def prepare_data(df, test=False):\n",
    "    df.rename(columns={'Hipertension':'Hypertension'}, inplace=True)\n",
    "    \n",
    "    # Make the column names lower-case and uniform\n",
    "    df.columns = df.columns.str.lower().str.replace('-', '_')\n",
    "\n",
    "    # Make the string values of categorical columns lower-case and uniform\n",
    "    categorical_columns = df.dtypes[df.dtypes == 'object'].index.tolist()\n",
    "    for col in categorical_columns:\n",
    "        df[col] = df[col].str.lower().str.replace(' ', '_')\n",
    "\n",
    "    # Make the target variable boolean\n",
    "    if test==False:\n",
    "        df.no_show = (df.no_show == 'yes').astype(int)       \n",
    "\n",
    "    return df\n",
    "\n",
    "df = prepare_data(df)\n",
    "#df.head()"
   ]
  },
  {
   "cell_type": "code",
   "execution_count": null,
   "metadata": {},
   "outputs": [],
   "source": [
    "def feature_engineering(df):\n",
    "    # Credit: https://github.com/fastai/fastai/blob/master/fastai/tabular/core.py#L26\n",
    "\n",
    "    attr = ['Year', 'Month', 'Week', 'Day', \n",
    "            'Dayofweek', 'Dayofyear', \n",
    "            'Is_month_end', 'Is_month_start', \n",
    "            'Is_quarter_end', 'Is_quarter_start',  \n",
    "            'Hour', 'Minute', 'Second']\n",
    "\n",
    "    for field_name in ['scheduledday', 'appointmentday']:\n",
    "\n",
    "        field = df[field_name]\n",
    "        prefix = field_name\n",
    "        \n",
    "        week = field.dt.isocalendar().week.astype(field.dt.day.dtype) if hasattr(field.dt, 'isocalendar') else field.dt.week\n",
    "        for n in attr: df[prefix + n] = getattr(field.dt, n.lower()) if n != 'Week' else week   \n",
    "\n",
    "        df.drop(field_name, axis=1, inplace=True)\n",
    "\n",
    "    return df\n",
    "\n",
    "df = feature_engineering(df)\n",
    "#df.head()\n"
   ]
  },
  {
   "cell_type": "code",
   "execution_count": null,
   "metadata": {},
   "outputs": [],
   "source": [
    "y_train = df.no_show.values\n",
    "\n",
    "del df['no_show']"
   ]
  },
  {
   "cell_type": "code",
   "execution_count": null,
   "metadata": {},
   "outputs": [],
   "source": [
    "numerical = [\n",
    "            'patientid',\n",
    "            'age',\n",
    "            'scheduleddayWeek',\n",
    "            'scheduleddayDay',\n",
    "            'scheduleddayDayofyear',\n",
    "            'scheduleddayHour',\n",
    "            'scheduleddayMinute',\n",
    "            'scheduleddaySecond',\n",
    "            'appointmentdayDay',\n",
    "            'appointmentdayDayofyear'\n",
    "            ]\n",
    "\n",
    "categorical = [\n",
    "                'gender',\n",
    "                'scholarship',\n",
    "                'hypertension',\n",
    "                'diabetes',\n",
    "                'alcoholism',\n",
    "                'handcap',\n",
    "                'sms_received',\n",
    "                'scheduleddayYear',\n",
    "                'scheduleddayMonth',\n",
    "                'scheduleddayDayofweek',\n",
    "                'scheduleddayIs_month_end',\n",
    "                'scheduleddayIs_month_start',\n",
    "                'scheduleddayIs_quarter_end',\n",
    "                'scheduleddayIs_quarter_start',\n",
    "                'appointmentdayMonth',\n",
    "                'appointmentdayWeek',\n",
    "                'appointmentdayDayofweek',\n",
    "                'appointmentdayIs_month_end',\n",
    "                'appointmentdayIs_month_start',\n",
    "                'neighbourhood'\n",
    "            ]\n",
    "\n",
    "df = df[numerical + categorical]\n",
    "#df.head()"
   ]
  },
  {
   "cell_type": "code",
   "execution_count": null,
   "metadata": {},
   "outputs": [],
   "source": [
    "X_train_num = df[numerical]\n",
    "\n",
    "scaler = StandardScaler()\n",
    "#scaler = MinMaxScaler()\n",
    "\n",
    "X_train_num = scaler.fit_transform(X_train_num)\n",
    "\n",
    "ohe = OneHotEncoder(sparse=False, handle_unknown='ignore')\n",
    "X_train_cat = ohe.fit_transform(df[categorical])\n",
    "\n",
    "X_train = np.column_stack([X_train_num, X_train_cat])\n",
    "features = [feature for feature in np.append(scaler.get_feature_names_out(),ohe.get_feature_names_out())]"
   ]
  },
  {
   "cell_type": "code",
   "execution_count": null,
   "metadata": {},
   "outputs": [],
   "source": [
    "lgbm_best = lgb.LGBMClassifier(boosting_type='dart',\n",
    "                                learning_rate=0.1,\n",
    "                                max_depth=12,\n",
    "                                n_estimators=500)\n",
    "\n",
    "lgbm_best.fit(X_train, y_train)\n",
    "\n",
    "# fitting to training set\n",
    "print('...evaluation of fit')\n",
    "y_fit = lgbm_best.predict_proba(X_train)[:, 1]\n",
    "print('Accuracy:', accuracy_score(y_train, y_fit >= 0.5))\n",
    "print('AUC ROC:', roc_auc_score(y_train, y_fit))"
   ]
  },
  {
   "cell_type": "code",
   "execution_count": null,
   "metadata": {},
   "outputs": [],
   "source": [
    "print('...saving model')\n",
    "model_name = \"LGBMClassifier_tranformers_final\"\n",
    "\n",
    "with open(f'../models/{model_name}.bin', 'wb') as f_out: # 'wb' means write-binary\n",
    "    pickle.dump((scaler, ohe, lgbm_best), f_out)"
   ]
  },
  {
   "cell_type": "markdown",
   "metadata": {},
   "source": [
    "# Loading model"
   ]
  },
  {
   "cell_type": "code",
   "execution_count": null,
   "metadata": {},
   "outputs": [],
   "source": [
    "model_file = '../models/LGBMClassifier_tranformers_final.bin'\n",
    "\n",
    "with open(model_file, 'rb') as f_in:\n",
    "    (scaler, ohe, model) = pickle.load(f_in)\n",
    "\n",
    "scaler, ohe, model"
   ]
  },
  {
   "cell_type": "code",
   "execution_count": null,
   "metadata": {},
   "outputs": [],
   "source": [
    "! md5sum ../models/LGBMClassifier_tranformers_final.bin"
   ]
  },
  {
   "cell_type": "markdown",
   "metadata": {},
   "source": [
    "# Predictions"
   ]
  },
  {
   "cell_type": "markdown",
   "metadata": {},
   "source": [
    "## Sample appointment"
   ]
  },
  {
   "cell_type": "code",
   "execution_count": null,
   "metadata": {},
   "outputs": [],
   "source": [
    "test_appointment = {\n",
    "                    'PatientId': 377511518121127.0,\n",
    "                    'AppointmentID': 5629448,\n",
    "                    'Gender': 'F',\n",
    "                    'ScheduledDay': pd.Timestamp('2016-04-27 13:30:56+0000', tz='UTC'),\n",
    "                    'AppointmentDay': pd.Timestamp('2016-06-07 00:00:00+0000', tz='UTC'),\n",
    "                    'Age': 54,\n",
    "                    'Neighbourhood': 'MARIA ORTIZ',\n",
    "                    'Scholarship': False,\n",
    "                    'Hipertension': False,\n",
    "                    'Diabetes': False,\n",
    "                    'Alcoholism': False,\n",
    "                    'Handcap': 0,\n",
    "                    'SMS_received': True\n",
    "                    }"
   ]
  },
  {
   "cell_type": "markdown",
   "metadata": {},
   "source": [
    "## Prepare test sample"
   ]
  },
  {
   "cell_type": "code",
   "execution_count": null,
   "metadata": {},
   "outputs": [],
   "source": [
    "def prepare_test(test_appointment):\n",
    "    df_test = pd.DataFrame(test_appointment, index=[0])\n",
    "    df_test = prepare_data(df_test, test=True)\n",
    "    df_test = feature_engineering(df_test)\n",
    "\n",
    "    X_test_num = scaler.transform(df_test[numerical])\n",
    "    X_test_cat = ohe.transform(df_test[categorical])\n",
    "    X_test = np.column_stack([X_test_num, X_test_cat])\n",
    "\n",
    "    return X_test\n",
    "\n",
    "X_test = prepare_test(test_appointment)"
   ]
  },
  {
   "cell_type": "markdown",
   "metadata": {},
   "source": [
    "## Make prediction"
   ]
  },
  {
   "cell_type": "code",
   "execution_count": null,
   "metadata": {},
   "outputs": [],
   "source": [
    "def predict(test_appointment):\n",
    "    X_test = prepare_test(test_appointment)\n",
    "    y_pred = model.predict_proba(X_test)[0,1]\n",
    "    return y_pred"
   ]
  },
  {
   "cell_type": "code",
   "execution_count": null,
   "metadata": {},
   "outputs": [],
   "source": [
    "predict(test_appointment)"
   ]
  }
 ],
 "metadata": {
  "kernelspec": {
   "display_name": "Python 3 (ipykernel)",
   "language": "python",
   "name": "python3"
  },
  "language_info": {
   "codemirror_mode": {
    "name": "ipython",
    "version": 3
   },
   "file_extension": ".py",
   "mimetype": "text/x-python",
   "name": "python",
   "nbconvert_exporter": "python",
   "pygments_lexer": "ipython3",
   "version": "3.9.18"
  }
 },
 "nbformat": 4,
 "nbformat_minor": 2
}
